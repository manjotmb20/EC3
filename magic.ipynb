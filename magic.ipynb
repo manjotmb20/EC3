{
  "nbformat": 4,
  "nbformat_minor": 0,
  "metadata": {
    "colab": {
      "name": "Untitled144.ipynb",
      "provenance": [],
      "include_colab_link": true
    },
    "kernelspec": {
      "name": "python3",
      "display_name": "Python 3"
    },
    "accelerator": "GPU"
  },
  "cells": [
    {
      "cell_type": "markdown",
      "metadata": {
        "id": "view-in-github",
        "colab_type": "text"
      },
      "source": [
        "<a href=\"https://colab.research.google.com/github/manjotmb20/EC3/blob/master/magic.ipynb\" target=\"_parent\"><img src=\"https://colab.research.google.com/assets/colab-badge.svg\" alt=\"Open In Colab\"/></a>"
      ]
    },
    {
      "cell_type": "code",
      "metadata": {
        "id": "AvUHnchPqyAN",
        "colab_type": "code",
        "outputId": "1fae7277-67ea-4d4a-ef68-185b8a38d30e",
        "colab": {
          "base_uri": "https://localhost:8080/",
          "height": 51
        }
      },
      "source": [
        "import numpy as np\n",
        "import matplotlib.pyplot as plt\n",
        "import pandas as pd\n",
        "import seaborn as sns\n",
        "from sklearn.preprocessing import LabelEncoder\n",
        "from sklearn.preprocessing import StandardScaler\n",
        "from sklearn.preprocessing import OneHotEncoder\n",
        "from numpy import linalg as LA\n",
        "import numpy as np\n",
        "import pandas as pd\n",
        "import matplotlib.pyplot as plt\n",
        "import seaborn as sns\n",
        "%matplotlib inline\n",
        "from sklearn.preprocessing import StandardScaler\n",
        "import nltk\n",
        "nltk.download(\"punkt\")\n",
        "# Warnings\n",
        "import warnings\n",
        "warnings.filterwarnings('ignore')\n"
      ],
      "execution_count": 45,
      "outputs": [
        {
          "output_type": "stream",
          "text": [
            "[nltk_data] Downloading package punkt to /root/nltk_data...\n",
            "[nltk_data]   Package punkt is already up-to-date!\n"
          ],
          "name": "stdout"
        }
      ]
    },
    {
      "cell_type": "code",
      "metadata": {
        "id": "718XlXxs4zHB",
        "colab_type": "code",
        "outputId": "b0f170bd-5316-445b-ee94-18b1f72a8627",
        "colab": {
          "base_uri": "https://localhost:8080/",
          "height": 204
        }
      },
      "source": [
        "data=pd.read_csv('data.csv')\n",
        "data.head()"
      ],
      "execution_count": 46,
      "outputs": [
        {
          "output_type": "execute_result",
          "data": {
            "text/html": [
              "<div>\n",
              "<style scoped>\n",
              "    .dataframe tbody tr th:only-of-type {\n",
              "        vertical-align: middle;\n",
              "    }\n",
              "\n",
              "    .dataframe tbody tr th {\n",
              "        vertical-align: top;\n",
              "    }\n",
              "\n",
              "    .dataframe thead th {\n",
              "        text-align: right;\n",
              "    }\n",
              "</style>\n",
              "<table border=\"1\" class=\"dataframe\">\n",
              "  <thead>\n",
              "    <tr style=\"text-align: right;\">\n",
              "      <th></th>\n",
              "      <th>Unnamed: 0</th>\n",
              "      <th>fLength</th>\n",
              "      <th>fWidth</th>\n",
              "      <th>fSize</th>\n",
              "      <th>fConc</th>\n",
              "      <th>fConc1</th>\n",
              "      <th>fAsym</th>\n",
              "      <th>fM3Long</th>\n",
              "      <th>fM3Trans</th>\n",
              "      <th>fAlpha</th>\n",
              "      <th>fDist</th>\n",
              "      <th>class</th>\n",
              "    </tr>\n",
              "  </thead>\n",
              "  <tbody>\n",
              "    <tr>\n",
              "      <th>0</th>\n",
              "      <td>0</td>\n",
              "      <td>28.7967</td>\n",
              "      <td>16.0021</td>\n",
              "      <td>2.6449</td>\n",
              "      <td>0.3918</td>\n",
              "      <td>0.1982</td>\n",
              "      <td>27.7004</td>\n",
              "      <td>22.0110</td>\n",
              "      <td>-8.2027</td>\n",
              "      <td>40.0920</td>\n",
              "      <td>81.8828</td>\n",
              "      <td>g</td>\n",
              "    </tr>\n",
              "    <tr>\n",
              "      <th>1</th>\n",
              "      <td>1</td>\n",
              "      <td>31.6036</td>\n",
              "      <td>11.7235</td>\n",
              "      <td>2.5185</td>\n",
              "      <td>0.5303</td>\n",
              "      <td>0.3773</td>\n",
              "      <td>26.2722</td>\n",
              "      <td>23.8238</td>\n",
              "      <td>-9.9574</td>\n",
              "      <td>6.3609</td>\n",
              "      <td>205.2610</td>\n",
              "      <td>g</td>\n",
              "    </tr>\n",
              "    <tr>\n",
              "      <th>2</th>\n",
              "      <td>2</td>\n",
              "      <td>162.0520</td>\n",
              "      <td>136.0310</td>\n",
              "      <td>4.0612</td>\n",
              "      <td>0.0374</td>\n",
              "      <td>0.0187</td>\n",
              "      <td>116.7410</td>\n",
              "      <td>-64.8580</td>\n",
              "      <td>-45.2160</td>\n",
              "      <td>76.9600</td>\n",
              "      <td>256.7880</td>\n",
              "      <td>g</td>\n",
              "    </tr>\n",
              "    <tr>\n",
              "      <th>3</th>\n",
              "      <td>3</td>\n",
              "      <td>23.8172</td>\n",
              "      <td>9.5728</td>\n",
              "      <td>2.3385</td>\n",
              "      <td>0.6147</td>\n",
              "      <td>0.3922</td>\n",
              "      <td>27.2107</td>\n",
              "      <td>-6.4633</td>\n",
              "      <td>-7.1513</td>\n",
              "      <td>10.4490</td>\n",
              "      <td>116.7370</td>\n",
              "      <td>g</td>\n",
              "    </tr>\n",
              "    <tr>\n",
              "      <th>4</th>\n",
              "      <td>4</td>\n",
              "      <td>75.1362</td>\n",
              "      <td>30.9205</td>\n",
              "      <td>3.1611</td>\n",
              "      <td>0.3168</td>\n",
              "      <td>0.1832</td>\n",
              "      <td>-5.5277</td>\n",
              "      <td>28.5525</td>\n",
              "      <td>21.8393</td>\n",
              "      <td>4.6480</td>\n",
              "      <td>356.4620</td>\n",
              "      <td>g</td>\n",
              "    </tr>\n",
              "  </tbody>\n",
              "</table>\n",
              "</div>"
            ],
            "text/plain": [
              "   Unnamed: 0   fLength    fWidth   fSize  ...  fM3Trans   fAlpha     fDist  class\n",
              "0           0   28.7967   16.0021  2.6449  ...   -8.2027  40.0920   81.8828      g\n",
              "1           1   31.6036   11.7235  2.5185  ...   -9.9574   6.3609  205.2610      g\n",
              "2           2  162.0520  136.0310  4.0612  ...  -45.2160  76.9600  256.7880      g\n",
              "3           3   23.8172    9.5728  2.3385  ...   -7.1513  10.4490  116.7370      g\n",
              "4           4   75.1362   30.9205  3.1611  ...   21.8393   4.6480  356.4620      g\n",
              "\n",
              "[5 rows x 12 columns]"
            ]
          },
          "metadata": {
            "tags": []
          },
          "execution_count": 46
        }
      ]
    },
    {
      "cell_type": "code",
      "metadata": {
        "id": "yWhc6pJfE5D6",
        "colab_type": "code",
        "colab": {}
      },
      "source": [
        "data= data.sample(frac=1).reset_index()\n"
      ],
      "execution_count": 0,
      "outputs": []
    },
    {
      "cell_type": "code",
      "metadata": {
        "id": "Aogmos4cHqdW",
        "colab_type": "code",
        "colab": {
          "base_uri": "https://localhost:8080/",
          "height": 359
        },
        "outputId": "7c7801d2-d477-4555-9e60-3931355556cf"
      },
      "source": [
        "data.head(10)"
      ],
      "execution_count": 48,
      "outputs": [
        {
          "output_type": "execute_result",
          "data": {
            "text/html": [
              "<div>\n",
              "<style scoped>\n",
              "    .dataframe tbody tr th:only-of-type {\n",
              "        vertical-align: middle;\n",
              "    }\n",
              "\n",
              "    .dataframe tbody tr th {\n",
              "        vertical-align: top;\n",
              "    }\n",
              "\n",
              "    .dataframe thead th {\n",
              "        text-align: right;\n",
              "    }\n",
              "</style>\n",
              "<table border=\"1\" class=\"dataframe\">\n",
              "  <thead>\n",
              "    <tr style=\"text-align: right;\">\n",
              "      <th></th>\n",
              "      <th>index</th>\n",
              "      <th>Unnamed: 0</th>\n",
              "      <th>fLength</th>\n",
              "      <th>fWidth</th>\n",
              "      <th>fSize</th>\n",
              "      <th>fConc</th>\n",
              "      <th>fConc1</th>\n",
              "      <th>fAsym</th>\n",
              "      <th>fM3Long</th>\n",
              "      <th>fM3Trans</th>\n",
              "      <th>fAlpha</th>\n",
              "      <th>fDist</th>\n",
              "      <th>class</th>\n",
              "    </tr>\n",
              "  </thead>\n",
              "  <tbody>\n",
              "    <tr>\n",
              "      <th>0</th>\n",
              "      <td>487</td>\n",
              "      <td>487</td>\n",
              "      <td>32.0222</td>\n",
              "      <td>8.6668</td>\n",
              "      <td>2.3454</td>\n",
              "      <td>0.4966</td>\n",
              "      <td>0.2551</td>\n",
              "      <td>-36.8830</td>\n",
              "      <td>-23.0419</td>\n",
              "      <td>-10.2571</td>\n",
              "      <td>35.6250</td>\n",
              "      <td>43.7536</td>\n",
              "      <td>g</td>\n",
              "    </tr>\n",
              "    <tr>\n",
              "      <th>1</th>\n",
              "      <td>2012</td>\n",
              "      <td>17030</td>\n",
              "      <td>30.2501</td>\n",
              "      <td>8.1902</td>\n",
              "      <td>2.4864</td>\n",
              "      <td>0.5873</td>\n",
              "      <td>0.3899</td>\n",
              "      <td>30.5772</td>\n",
              "      <td>23.6409</td>\n",
              "      <td>-7.2522</td>\n",
              "      <td>43.9048</td>\n",
              "      <td>226.8710</td>\n",
              "      <td>h</td>\n",
              "    </tr>\n",
              "    <tr>\n",
              "      <th>2</th>\n",
              "      <td>456</td>\n",
              "      <td>456</td>\n",
              "      <td>73.2648</td>\n",
              "      <td>27.0787</td>\n",
              "      <td>3.5292</td>\n",
              "      <td>0.1718</td>\n",
              "      <td>0.0897</td>\n",
              "      <td>28.7515</td>\n",
              "      <td>67.9722</td>\n",
              "      <td>18.8744</td>\n",
              "      <td>6.2195</td>\n",
              "      <td>285.9970</td>\n",
              "      <td>g</td>\n",
              "    </tr>\n",
              "    <tr>\n",
              "      <th>3</th>\n",
              "      <td>1994</td>\n",
              "      <td>1994</td>\n",
              "      <td>48.0175</td>\n",
              "      <td>32.6580</td>\n",
              "      <td>3.4379</td>\n",
              "      <td>0.1791</td>\n",
              "      <td>0.1122</td>\n",
              "      <td>6.1968</td>\n",
              "      <td>37.0195</td>\n",
              "      <td>23.5773</td>\n",
              "      <td>8.7025</td>\n",
              "      <td>127.1720</td>\n",
              "      <td>g</td>\n",
              "    </tr>\n",
              "    <tr>\n",
              "      <th>4</th>\n",
              "      <td>3137</td>\n",
              "      <td>18155</td>\n",
              "      <td>29.2725</td>\n",
              "      <td>17.0724</td>\n",
              "      <td>2.3220</td>\n",
              "      <td>0.4791</td>\n",
              "      <td>0.2268</td>\n",
              "      <td>-16.7733</td>\n",
              "      <td>-28.5093</td>\n",
              "      <td>-18.5301</td>\n",
              "      <td>42.8316</td>\n",
              "      <td>23.7786</td>\n",
              "      <td>h</td>\n",
              "    </tr>\n",
              "    <tr>\n",
              "      <th>5</th>\n",
              "      <td>1924</td>\n",
              "      <td>1924</td>\n",
              "      <td>29.2823</td>\n",
              "      <td>12.9176</td>\n",
              "      <td>2.4691</td>\n",
              "      <td>0.3701</td>\n",
              "      <td>0.1851</td>\n",
              "      <td>28.5025</td>\n",
              "      <td>16.1177</td>\n",
              "      <td>-7.5543</td>\n",
              "      <td>16.8680</td>\n",
              "      <td>232.1640</td>\n",
              "      <td>g</td>\n",
              "    </tr>\n",
              "    <tr>\n",
              "      <th>6</th>\n",
              "      <td>3608</td>\n",
              "      <td>18626</td>\n",
              "      <td>56.4149</td>\n",
              "      <td>30.6338</td>\n",
              "      <td>2.8832</td>\n",
              "      <td>0.3004</td>\n",
              "      <td>0.1536</td>\n",
              "      <td>43.1763</td>\n",
              "      <td>-32.7553</td>\n",
              "      <td>-27.3382</td>\n",
              "      <td>74.4429</td>\n",
              "      <td>190.0006</td>\n",
              "      <td>h</td>\n",
              "    </tr>\n",
              "    <tr>\n",
              "      <th>7</th>\n",
              "      <td>3572</td>\n",
              "      <td>18590</td>\n",
              "      <td>97.3859</td>\n",
              "      <td>45.1858</td>\n",
              "      <td>3.8734</td>\n",
              "      <td>0.0957</td>\n",
              "      <td>0.0504</td>\n",
              "      <td>61.3107</td>\n",
              "      <td>73.4191</td>\n",
              "      <td>-36.4356</td>\n",
              "      <td>32.3020</td>\n",
              "      <td>185.7120</td>\n",
              "      <td>h</td>\n",
              "    </tr>\n",
              "    <tr>\n",
              "      <th>8</th>\n",
              "      <td>147</td>\n",
              "      <td>147</td>\n",
              "      <td>18.2490</td>\n",
              "      <td>10.4383</td>\n",
              "      <td>2.2529</td>\n",
              "      <td>0.6034</td>\n",
              "      <td>0.3156</td>\n",
              "      <td>22.8063</td>\n",
              "      <td>10.1469</td>\n",
              "      <td>5.3027</td>\n",
              "      <td>15.8259</td>\n",
              "      <td>159.5440</td>\n",
              "      <td>g</td>\n",
              "    </tr>\n",
              "    <tr>\n",
              "      <th>9</th>\n",
              "      <td>1816</td>\n",
              "      <td>1816</td>\n",
              "      <td>26.5096</td>\n",
              "      <td>12.8159</td>\n",
              "      <td>2.6058</td>\n",
              "      <td>0.4535</td>\n",
              "      <td>0.2367</td>\n",
              "      <td>26.4977</td>\n",
              "      <td>18.8052</td>\n",
              "      <td>6.2608</td>\n",
              "      <td>7.5800</td>\n",
              "      <td>250.7210</td>\n",
              "      <td>g</td>\n",
              "    </tr>\n",
              "  </tbody>\n",
              "</table>\n",
              "</div>"
            ],
            "text/plain": [
              "   index  Unnamed: 0  fLength   fWidth  ...  fM3Trans   fAlpha     fDist  class\n",
              "0    487         487  32.0222   8.6668  ...  -10.2571  35.6250   43.7536      g\n",
              "1   2012       17030  30.2501   8.1902  ...   -7.2522  43.9048  226.8710      h\n",
              "2    456         456  73.2648  27.0787  ...   18.8744   6.2195  285.9970      g\n",
              "3   1994        1994  48.0175  32.6580  ...   23.5773   8.7025  127.1720      g\n",
              "4   3137       18155  29.2725  17.0724  ...  -18.5301  42.8316   23.7786      h\n",
              "5   1924        1924  29.2823  12.9176  ...   -7.5543  16.8680  232.1640      g\n",
              "6   3608       18626  56.4149  30.6338  ...  -27.3382  74.4429  190.0006      h\n",
              "7   3572       18590  97.3859  45.1858  ...  -36.4356  32.3020  185.7120      h\n",
              "8    147         147  18.2490  10.4383  ...    5.3027  15.8259  159.5440      g\n",
              "9   1816        1816  26.5096  12.8159  ...    6.2608   7.5800  250.7210      g\n",
              "\n",
              "[10 rows x 13 columns]"
            ]
          },
          "metadata": {
            "tags": []
          },
          "execution_count": 48
        }
      ]
    },
    {
      "cell_type": "code",
      "metadata": {
        "id": "7anZcWNC5tCV",
        "colab_type": "code",
        "colab": {
          "base_uri": "https://localhost:8080/",
          "height": 204
        },
        "outputId": "49ca354a-fd63-4b97-c2f2-f4bc0c9cd90d"
      },
      "source": [
        "data['class'][data['class']=='g']=1\n",
        "data['class'][data['class']=='h']=0\n",
        "Y=pd.DataFrame(data['class'])\n",
        "data.drop('class', inplace=True,axis=1)\n",
        "data.drop('Unnamed: 0', inplace=True,axis=1)\n",
        "data.drop('index', inplace=True,axis=1)\n",
        "X=pd.DataFrame()\n",
        "X=data\n",
        "X.head()"
      ],
      "execution_count": 49,
      "outputs": [
        {
          "output_type": "execute_result",
          "data": {
            "text/html": [
              "<div>\n",
              "<style scoped>\n",
              "    .dataframe tbody tr th:only-of-type {\n",
              "        vertical-align: middle;\n",
              "    }\n",
              "\n",
              "    .dataframe tbody tr th {\n",
              "        vertical-align: top;\n",
              "    }\n",
              "\n",
              "    .dataframe thead th {\n",
              "        text-align: right;\n",
              "    }\n",
              "</style>\n",
              "<table border=\"1\" class=\"dataframe\">\n",
              "  <thead>\n",
              "    <tr style=\"text-align: right;\">\n",
              "      <th></th>\n",
              "      <th>fLength</th>\n",
              "      <th>fWidth</th>\n",
              "      <th>fSize</th>\n",
              "      <th>fConc</th>\n",
              "      <th>fConc1</th>\n",
              "      <th>fAsym</th>\n",
              "      <th>fM3Long</th>\n",
              "      <th>fM3Trans</th>\n",
              "      <th>fAlpha</th>\n",
              "      <th>fDist</th>\n",
              "    </tr>\n",
              "  </thead>\n",
              "  <tbody>\n",
              "    <tr>\n",
              "      <th>0</th>\n",
              "      <td>32.0222</td>\n",
              "      <td>8.6668</td>\n",
              "      <td>2.3454</td>\n",
              "      <td>0.4966</td>\n",
              "      <td>0.2551</td>\n",
              "      <td>-36.8830</td>\n",
              "      <td>-23.0419</td>\n",
              "      <td>-10.2571</td>\n",
              "      <td>35.6250</td>\n",
              "      <td>43.7536</td>\n",
              "    </tr>\n",
              "    <tr>\n",
              "      <th>1</th>\n",
              "      <td>30.2501</td>\n",
              "      <td>8.1902</td>\n",
              "      <td>2.4864</td>\n",
              "      <td>0.5873</td>\n",
              "      <td>0.3899</td>\n",
              "      <td>30.5772</td>\n",
              "      <td>23.6409</td>\n",
              "      <td>-7.2522</td>\n",
              "      <td>43.9048</td>\n",
              "      <td>226.8710</td>\n",
              "    </tr>\n",
              "    <tr>\n",
              "      <th>2</th>\n",
              "      <td>73.2648</td>\n",
              "      <td>27.0787</td>\n",
              "      <td>3.5292</td>\n",
              "      <td>0.1718</td>\n",
              "      <td>0.0897</td>\n",
              "      <td>28.7515</td>\n",
              "      <td>67.9722</td>\n",
              "      <td>18.8744</td>\n",
              "      <td>6.2195</td>\n",
              "      <td>285.9970</td>\n",
              "    </tr>\n",
              "    <tr>\n",
              "      <th>3</th>\n",
              "      <td>48.0175</td>\n",
              "      <td>32.6580</td>\n",
              "      <td>3.4379</td>\n",
              "      <td>0.1791</td>\n",
              "      <td>0.1122</td>\n",
              "      <td>6.1968</td>\n",
              "      <td>37.0195</td>\n",
              "      <td>23.5773</td>\n",
              "      <td>8.7025</td>\n",
              "      <td>127.1720</td>\n",
              "    </tr>\n",
              "    <tr>\n",
              "      <th>4</th>\n",
              "      <td>29.2725</td>\n",
              "      <td>17.0724</td>\n",
              "      <td>2.3220</td>\n",
              "      <td>0.4791</td>\n",
              "      <td>0.2268</td>\n",
              "      <td>-16.7733</td>\n",
              "      <td>-28.5093</td>\n",
              "      <td>-18.5301</td>\n",
              "      <td>42.8316</td>\n",
              "      <td>23.7786</td>\n",
              "    </tr>\n",
              "  </tbody>\n",
              "</table>\n",
              "</div>"
            ],
            "text/plain": [
              "   fLength   fWidth   fSize   fConc  ...  fM3Long  fM3Trans   fAlpha     fDist\n",
              "0  32.0222   8.6668  2.3454  0.4966  ... -23.0419  -10.2571  35.6250   43.7536\n",
              "1  30.2501   8.1902  2.4864  0.5873  ...  23.6409   -7.2522  43.9048  226.8710\n",
              "2  73.2648  27.0787  3.5292  0.1718  ...  67.9722   18.8744   6.2195  285.9970\n",
              "3  48.0175  32.6580  3.4379  0.1791  ...  37.0195   23.5773   8.7025  127.1720\n",
              "4  29.2725  17.0724  2.3220  0.4791  ... -28.5093  -18.5301  42.8316   23.7786\n",
              "\n",
              "[5 rows x 10 columns]"
            ]
          },
          "metadata": {
            "tags": []
          },
          "execution_count": 49
        }
      ]
    },
    {
      "cell_type": "code",
      "metadata": {
        "id": "OnrmAoSa8U7v",
        "colab_type": "code",
        "outputId": "a4940c70-74c8-4a81-a6ff-2774965ca1ee",
        "colab": {
          "base_uri": "https://localhost:8080/",
          "height": 419
        }
      },
      "source": [
        "Y"
      ],
      "execution_count": 50,
      "outputs": [
        {
          "output_type": "execute_result",
          "data": {
            "text/html": [
              "<div>\n",
              "<style scoped>\n",
              "    .dataframe tbody tr th:only-of-type {\n",
              "        vertical-align: middle;\n",
              "    }\n",
              "\n",
              "    .dataframe tbody tr th {\n",
              "        vertical-align: top;\n",
              "    }\n",
              "\n",
              "    .dataframe thead th {\n",
              "        text-align: right;\n",
              "    }\n",
              "</style>\n",
              "<table border=\"1\" class=\"dataframe\">\n",
              "  <thead>\n",
              "    <tr style=\"text-align: right;\">\n",
              "      <th></th>\n",
              "      <th>class</th>\n",
              "    </tr>\n",
              "  </thead>\n",
              "  <tbody>\n",
              "    <tr>\n",
              "      <th>0</th>\n",
              "      <td>1</td>\n",
              "    </tr>\n",
              "    <tr>\n",
              "      <th>1</th>\n",
              "      <td>0</td>\n",
              "    </tr>\n",
              "    <tr>\n",
              "      <th>2</th>\n",
              "      <td>1</td>\n",
              "    </tr>\n",
              "    <tr>\n",
              "      <th>3</th>\n",
              "      <td>1</td>\n",
              "    </tr>\n",
              "    <tr>\n",
              "      <th>4</th>\n",
              "      <td>0</td>\n",
              "    </tr>\n",
              "    <tr>\n",
              "      <th>...</th>\n",
              "      <td>...</td>\n",
              "    </tr>\n",
              "    <tr>\n",
              "      <th>3997</th>\n",
              "      <td>1</td>\n",
              "    </tr>\n",
              "    <tr>\n",
              "      <th>3998</th>\n",
              "      <td>0</td>\n",
              "    </tr>\n",
              "    <tr>\n",
              "      <th>3999</th>\n",
              "      <td>0</td>\n",
              "    </tr>\n",
              "    <tr>\n",
              "      <th>4000</th>\n",
              "      <td>0</td>\n",
              "    </tr>\n",
              "    <tr>\n",
              "      <th>4001</th>\n",
              "      <td>1</td>\n",
              "    </tr>\n",
              "  </tbody>\n",
              "</table>\n",
              "<p>4002 rows × 1 columns</p>\n",
              "</div>"
            ],
            "text/plain": [
              "     class\n",
              "0        1\n",
              "1        0\n",
              "2        1\n",
              "3        1\n",
              "4        0\n",
              "...    ...\n",
              "3997     1\n",
              "3998     0\n",
              "3999     0\n",
              "4000     0\n",
              "4001     1\n",
              "\n",
              "[4002 rows x 1 columns]"
            ]
          },
          "metadata": {
            "tags": []
          },
          "execution_count": 50
        }
      ]
    },
    {
      "cell_type": "code",
      "metadata": {
        "id": "QBvpsb0L6JoH",
        "colab_type": "code",
        "outputId": "b565290e-f415-4d7b-c72c-66859ba398b1",
        "colab": {
          "base_uri": "https://localhost:8080/",
          "height": 238
        }
      },
      "source": [
        "sc=StandardScaler()\n",
        "X=sc.fit_transform(X)\n",
        "X"
      ],
      "execution_count": 51,
      "outputs": [
        {
          "output_type": "execute_result",
          "data": {
            "text/plain": [
              "array([[-0.53959929, -0.70525587, -1.06284197, ..., -0.44331417,\n",
              "         0.13445696, -1.9873383 ],\n",
              "       [-0.5762194 , -0.72667168, -0.76629186, ..., -0.3208851 ,\n",
              "         0.43862064,  0.40946888],\n",
              "       [ 0.31267111,  0.12207447,  1.42691706, ...,  0.7435947 ,\n",
              "        -0.94577266,  1.18336378],\n",
              "       ...,\n",
              "       [-0.86917197, -0.77393832, -1.01636142, ..., -0.33012972,\n",
              "        -0.34935131, -0.74732899],\n",
              "       [ 0.81164562,  1.59304723,  2.05976763, ..., -2.32812456,\n",
              "        -0.28283778,  1.40866712],\n",
              "       [-0.79179054, -0.76356743, -1.45929372, ...,  0.18140044,\n",
              "        -0.51781357,  0.711129  ]])"
            ]
          },
          "metadata": {
            "tags": []
          },
          "execution_count": 51
        }
      ]
    },
    {
      "cell_type": "code",
      "metadata": {
        "id": "nDDLYC9oD-fL",
        "colab_type": "code",
        "colab": {}
      },
      "source": [
        "X_train=data\n",
        "Y_train=Y['class']\n",
        "Y_train=Y_train.astype('int')"
      ],
      "execution_count": 0,
      "outputs": []
    },
    {
      "cell_type": "code",
      "metadata": {
        "id": "Pza3XgrCEHL5",
        "colab_type": "code",
        "outputId": "06c0faec-88a9-4590-f90a-33b0069968f1",
        "colab": {
          "base_uri": "https://localhost:8080/",
          "height": 34
        }
      },
      "source": [
        "type(Y_train)"
      ],
      "execution_count": 53,
      "outputs": [
        {
          "output_type": "execute_result",
          "data": {
            "text/plain": [
              "pandas.core.series.Series"
            ]
          },
          "metadata": {
            "tags": []
          },
          "execution_count": 53
        }
      ]
    },
    {
      "cell_type": "code",
      "metadata": {
        "id": "_vcj021k7W3N",
        "colab_type": "code",
        "outputId": "4de7ec39-7873-49d3-c07a-384d1ade4308",
        "colab": {
          "base_uri": "https://localhost:8080/",
          "height": 453
        }
      },
      "source": [
        "from sklearn.linear_model import LogisticRegression\n",
        "from sklearn.model_selection import train_test_split\n",
        "from sklearn.tree import DecisionTreeClassifier\n",
        "from sklearn.svm import SVC\n",
        "classifier3=DecisionTreeClassifier()\n",
        "from sklearn.metrics import roc_auc_score,accuracy_score\n",
        "x_train,x_val,y_train,y_val=train_test_split(X_train,Y_train,stratify=Y['class'],test_size=0.4,random_state=9)\n",
        "classifier=LogisticRegression(C=5.0,random_state=0)\n",
        "classifier.fit(x_train,y_train)\n",
        "ypred=classifier.predict(x_val)\n",
        "print(\"Accuracy score of LR\",accuracy_score(y_val,ypred))\n",
        "y_prob=classifier.predict_proba(x_val)\n",
        "df=pd.DataFrame()\n",
        "df['pred']=ypred\n",
        "survived=pd.get_dummies(df.pred,prefix='Survived')\n",
        "df=pd.concat([df,survived],axis=1)\n",
        "df.drop('pred',inplace=True,axis=1)\n",
        "df2=pd.DataFrame()\n",
        "classifier3.fit(x_train,y_train)\n",
        "ypred3=classifier3.predict(x_val)\n",
        "print(\"Accuracy score of Decision Tree\",accuracy_score(y_val,ypred3))\n",
        "df2['pred']=ypred3\n",
        "y_prob3=classifier3.predict_proba(x_val)\n",
        "survived2=pd.get_dummies(df2.pred,prefix='Surviveds')\n",
        "df=pd.concat([df,survived2],axis=1)\n",
        "df"
      ],
      "execution_count": 54,
      "outputs": [
        {
          "output_type": "stream",
          "text": [
            "Accuracy score of LR 0.7607745159275453\n",
            "Accuracy score of Decision Tree 0.7813866333541537\n"
          ],
          "name": "stdout"
        },
        {
          "output_type": "execute_result",
          "data": {
            "text/html": [
              "<div>\n",
              "<style scoped>\n",
              "    .dataframe tbody tr th:only-of-type {\n",
              "        vertical-align: middle;\n",
              "    }\n",
              "\n",
              "    .dataframe tbody tr th {\n",
              "        vertical-align: top;\n",
              "    }\n",
              "\n",
              "    .dataframe thead th {\n",
              "        text-align: right;\n",
              "    }\n",
              "</style>\n",
              "<table border=\"1\" class=\"dataframe\">\n",
              "  <thead>\n",
              "    <tr style=\"text-align: right;\">\n",
              "      <th></th>\n",
              "      <th>Survived_0</th>\n",
              "      <th>Survived_1</th>\n",
              "      <th>Surviveds_0</th>\n",
              "      <th>Surviveds_1</th>\n",
              "    </tr>\n",
              "  </thead>\n",
              "  <tbody>\n",
              "    <tr>\n",
              "      <th>0</th>\n",
              "      <td>0</td>\n",
              "      <td>1</td>\n",
              "      <td>0</td>\n",
              "      <td>1</td>\n",
              "    </tr>\n",
              "    <tr>\n",
              "      <th>1</th>\n",
              "      <td>0</td>\n",
              "      <td>1</td>\n",
              "      <td>0</td>\n",
              "      <td>1</td>\n",
              "    </tr>\n",
              "    <tr>\n",
              "      <th>2</th>\n",
              "      <td>1</td>\n",
              "      <td>0</td>\n",
              "      <td>1</td>\n",
              "      <td>0</td>\n",
              "    </tr>\n",
              "    <tr>\n",
              "      <th>3</th>\n",
              "      <td>1</td>\n",
              "      <td>0</td>\n",
              "      <td>1</td>\n",
              "      <td>0</td>\n",
              "    </tr>\n",
              "    <tr>\n",
              "      <th>4</th>\n",
              "      <td>0</td>\n",
              "      <td>1</td>\n",
              "      <td>1</td>\n",
              "      <td>0</td>\n",
              "    </tr>\n",
              "    <tr>\n",
              "      <th>...</th>\n",
              "      <td>...</td>\n",
              "      <td>...</td>\n",
              "      <td>...</td>\n",
              "      <td>...</td>\n",
              "    </tr>\n",
              "    <tr>\n",
              "      <th>1596</th>\n",
              "      <td>0</td>\n",
              "      <td>1</td>\n",
              "      <td>0</td>\n",
              "      <td>1</td>\n",
              "    </tr>\n",
              "    <tr>\n",
              "      <th>1597</th>\n",
              "      <td>0</td>\n",
              "      <td>1</td>\n",
              "      <td>0</td>\n",
              "      <td>1</td>\n",
              "    </tr>\n",
              "    <tr>\n",
              "      <th>1598</th>\n",
              "      <td>1</td>\n",
              "      <td>0</td>\n",
              "      <td>1</td>\n",
              "      <td>0</td>\n",
              "    </tr>\n",
              "    <tr>\n",
              "      <th>1599</th>\n",
              "      <td>1</td>\n",
              "      <td>0</td>\n",
              "      <td>1</td>\n",
              "      <td>0</td>\n",
              "    </tr>\n",
              "    <tr>\n",
              "      <th>1600</th>\n",
              "      <td>0</td>\n",
              "      <td>1</td>\n",
              "      <td>0</td>\n",
              "      <td>1</td>\n",
              "    </tr>\n",
              "  </tbody>\n",
              "</table>\n",
              "<p>1601 rows × 4 columns</p>\n",
              "</div>"
            ],
            "text/plain": [
              "      Survived_0  Survived_1  Surviveds_0  Surviveds_1\n",
              "0              0           1            0            1\n",
              "1              0           1            0            1\n",
              "2              1           0            1            0\n",
              "3              1           0            1            0\n",
              "4              0           1            1            0\n",
              "...          ...         ...          ...          ...\n",
              "1596           0           1            0            1\n",
              "1597           0           1            0            1\n",
              "1598           1           0            1            0\n",
              "1599           1           0            1            0\n",
              "1600           0           1            0            1\n",
              "\n",
              "[1601 rows x 4 columns]"
            ]
          },
          "metadata": {
            "tags": []
          },
          "execution_count": 54
        }
      ]
    },
    {
      "cell_type": "code",
      "metadata": {
        "id": "CepLLTmuv3FV",
        "colab_type": "code",
        "colab": {}
      },
      "source": [
        "m=np.array(df)\n",
        "s=np.zeros(shape=(m.shape[0],m.shape[0]))\n",
        "for i in range(m.shape[0]):\n",
        "  for j in range(m.shape[0]):\n",
        "    if i!=j:\n",
        "      sum1=0\n",
        "      for k in range(2,m.shape[1]):\n",
        "        sum1=sum1+(m[i][k]*m[j][k])\n",
        "      s[i][j]=sum1\n",
        "w=s\n",
        "d=np.zeros(shape=w.shape[0])\n"
      ],
      "execution_count": 0,
      "outputs": []
    },
    {
      "cell_type": "code",
      "metadata": {
        "id": "-67J3ZK_l0-j",
        "colab_type": "code",
        "colab": {}
      },
      "source": [
        "for i in range(d.shape[0]):\n",
        "  d[i]=np.sum(w[i],axis=0)\n",
        "wnew=w/d.reshape(d.shape[0],1)\n",
        "Km=wnew     "
      ],
      "execution_count": 0,
      "outputs": []
    },
    {
      "cell_type": "code",
      "metadata": {
        "id": "fT6sqn8-1WSX",
        "colab_type": "code",
        "outputId": "8975b357-74fd-4d7d-cd96-8ab6e857ff37",
        "colab": {
          "base_uri": "https://localhost:8080/",
          "height": 238
        }
      },
      "source": [
        "Km"
      ],
      "execution_count": 57,
      "outputs": [
        {
          "output_type": "execute_result",
          "data": {
            "text/plain": [
              "array([[0.        , 0.00122399, 0.        , ..., 0.        , 0.        ,\n",
              "        0.00122399],\n",
              "       [0.00122399, 0.        , 0.        , ..., 0.        , 0.        ,\n",
              "        0.00122399],\n",
              "       [0.        , 0.        , 0.        , ..., 0.00127877, 0.00127877,\n",
              "        0.        ],\n",
              "       ...,\n",
              "       [0.        , 0.        , 0.00127877, ..., 0.        , 0.00127877,\n",
              "        0.        ],\n",
              "       [0.        , 0.        , 0.00127877, ..., 0.00127877, 0.        ,\n",
              "        0.        ],\n",
              "       [0.00122399, 0.00122399, 0.        , ..., 0.        , 0.        ,\n",
              "        0.        ]])"
            ]
          },
          "metadata": {
            "tags": []
          },
          "execution_count": 57
        }
      ]
    },
    {
      "cell_type": "markdown",
      "metadata": {
        "id": "ir_FOeVcboVq",
        "colab_type": "text"
      },
      "source": [
        "**Checking whether the matrices have been normalized or not i.e making them bistochastic **"
      ]
    },
    {
      "cell_type": "code",
      "metadata": {
        "id": "Ck8_a_D12H0d",
        "colab_type": "code",
        "outputId": "43db7b9c-e181-4a39-e7f4-1d17b0ce7cb1",
        "colab": {
          "base_uri": "https://localhost:8080/",
          "height": 51
        }
      },
      "source": [
        "print(np.sum(Km,axis=1))\n",
        "print(np.sum(Km,axis=0))"
      ],
      "execution_count": 58,
      "outputs": [
        {
          "output_type": "stream",
          "text": [
            "[1. 1. 1. ... 1. 1. 1.]\n",
            "[1. 1. 1. ... 1. 1. 1.]\n"
          ],
          "name": "stdout"
        }
      ]
    },
    {
      "cell_type": "markdown",
      "metadata": {
        "id": "p0ZiuK9nb9Cw",
        "colab_type": "text"
      },
      "source": [
        "Similarly for Kc we generate a bistochastic matrix where m=the co-occurence matrix."
      ]
    },
    {
      "cell_type": "code",
      "metadata": {
        "id": "MHn5XuG72Ijh",
        "colab_type": "code",
        "colab": {}
      },
      "source": [
        "\n",
        "\n",
        "\n"
      ],
      "execution_count": 0,
      "outputs": []
    },
    {
      "cell_type": "code",
      "metadata": {
        "id": "Z1V-98pImkVa",
        "colab_type": "code",
        "colab": {}
      },
      "source": [
        "\n",
        "m=m.dot(m.T)  \n",
        "s=np.zeros(shape=(m.shape[0],m.shape[0]))\n",
        "for i in range(m.shape[0]):\n",
        "  for j in range(m.shape[0]):\n",
        "    if i!=j:\n",
        "      sum1=0\n",
        "      for k in range(2,m.shape[1]):\n",
        "        sum1=sum1+(m[i][k]*m[j][k])\n",
        "      s[i][j]=sum1   \n"
      ],
      "execution_count": 0,
      "outputs": []
    },
    {
      "cell_type": "code",
      "metadata": {
        "id": "j40zOKQ-mnOz",
        "colab_type": "code",
        "colab": {
          "base_uri": "https://localhost:8080/",
          "height": 238
        },
        "outputId": "1e0f6845-0bfd-41ea-dce2-0f4a97f0a780"
      },
      "source": [
        "d=np.zeros(shape=w.shape[0])\n",
        "w=s\n",
        "for i in range(d.shape[0]):\n",
        "  d[i]=np.sum(w[i],axis=0)\n",
        "wnew=w/d.reshape(d.shape[0],1)  \n",
        "Kc=wnew\n",
        "Kc"
      ],
      "execution_count": 60,
      "outputs": [
        {
          "output_type": "execute_result",
          "data": {
            "text/plain": [
              "array([[0.        , 0.00104128, 0.0001439 , ..., 0.0001439 , 0.0001439 ,\n",
              "        0.00104128],\n",
              "       [0.00104128, 0.        , 0.0001439 , ..., 0.0001439 , 0.0001439 ,\n",
              "        0.00104128],\n",
              "       [0.00018306, 0.00018306, 0.        , ..., 0.00113059, 0.00113059,\n",
              "        0.00018306],\n",
              "       ...,\n",
              "       [0.00018306, 0.00018306, 0.00113059, ..., 0.        , 0.00113059,\n",
              "        0.00018306],\n",
              "       [0.00018306, 0.00018306, 0.00113059, ..., 0.00113059, 0.        ,\n",
              "        0.00018306],\n",
              "       [0.00104128, 0.00104128, 0.0001439 , ..., 0.0001439 , 0.0001439 ,\n",
              "        0.        ]])"
            ]
          },
          "metadata": {
            "tags": []
          },
          "execution_count": 60
        }
      ]
    },
    {
      "cell_type": "markdown",
      "metadata": {
        "id": "SAFnKTDscdnX",
        "colab_type": "text"
      },
      "source": [
        "**Same, checking for bi-stochastic behaviour**"
      ]
    },
    {
      "cell_type": "code",
      "metadata": {
        "id": "DlvTfnrF2Smi",
        "colab_type": "code",
        "outputId": "90743cdd-a295-4cc2-bb30-4a49437d11b9",
        "colab": {
          "base_uri": "https://localhost:8080/",
          "height": 34
        }
      },
      "source": [
        "  np.sum(Kc,axis=1)"
      ],
      "execution_count": 61,
      "outputs": [
        {
          "output_type": "execute_result",
          "data": {
            "text/plain": [
              "array([1., 1., 1., ..., 1., 1., 1.])"
            ]
          },
          "metadata": {
            "tags": []
          },
          "execution_count": 61
        }
      ]
    },
    {
      "cell_type": "markdown",
      "metadata": {
        "id": "qmJ1FML0ckLi",
        "colab_type": "text"
      },
      "source": [
        "**Generating Fg and Fo i'e the Group class matrix and Object Class matrix**"
      ]
    },
    {
      "cell_type": "code",
      "metadata": {
        "id": "DTO5d9Ay2Xc5",
        "colab_type": "code",
        "outputId": "e8c763f1-8d2f-4994-e3f1-309bad6ad153",
        "colab": {
          "base_uri": "https://localhost:8080/",
          "height": 85
        }
      },
      "source": [
        "\n",
        "objclass_mat1=pd.DataFrame(y_prob,columns=['Survived','NotSurvived'])\n",
        "objclass_mat2=pd.DataFrame(y_prob3,columns=['Survived','NotSurvived'])\n",
        "df_t=pd.DataFrame(objclass_mat1)\n",
        "Fo=np.array(df_t)\n",
        "gpclass_mat=pd.DataFrame(columns=['Survived','NotSurvived'],index=['class1surv','class1notsurv','class2surv','class2notsurv'])\n",
        "prob1s=np.sum(objclass_mat1.Survived)/len(objclass_mat1)\n",
        "prob1ns=np.sum(objclass_mat1.NotSurvived)/len(objclass_mat1)\n",
        "prob2s=np.sum(objclass_mat2.Survived)/len(objclass_mat2)\n",
        "prob2ns=np.sum(objclass_mat2.NotSurvived)/len(objclass_mat2)\n",
        "list1=[]\n",
        "list1.append(prob1s)\n",
        "list1.append(prob1ns)\n",
        "list1.append(prob2s)\n",
        "list1.append(prob2ns)\n",
        "\n",
        "list2=[]\n",
        "list2.append(prob1ns)\n",
        "list2.append(prob1s)\n",
        "list2.append(prob2ns)\n",
        "list2.append(prob2s)\n",
        "gpclass_mat['Survived']=list1\n",
        "gpclass_mat['NotSurvived']=list2\n",
        "gpclass_mat\n",
        "Fg=np.array(gpclass_mat)\n",
        "Fg"
      ],
      "execution_count": 62,
      "outputs": [
        {
          "output_type": "execute_result",
          "data": {
            "text/plain": [
              "array([[0.49993433, 0.50006567],\n",
              "       [0.50006567, 0.49993433],\n",
              "       [0.48906933, 0.51093067],\n",
              "       [0.51093067, 0.48906933]])"
            ]
          },
          "metadata": {
            "tags": []
          },
          "execution_count": 62
        }
      ]
    },
    {
      "cell_type": "markdown",
      "metadata": {
        "id": "JRxO_k8tct-4",
        "colab_type": "text"
      },
      "source": [
        "**Similarly, generating  Yo and Yg**"
      ]
    },
    {
      "cell_type": "code",
      "metadata": {
        "id": "ovw7WJ7S2pQc",
        "colab_type": "code",
        "colab": {}
      },
      "source": [
        "n=2\n",
        "C=survived.shape[1]\n",
        "G=survived.shape[1]*n\n",
        "\n",
        "Yo=np.zeros(shape=(df.shape[0],C))\n",
        "cal_y=np.array(df)\n",
        "for i in range(Yo.shape[0]):\n",
        "  Yo[i][0]=(cal_y[i][0]+cal_y[i][2])/C\n",
        "for i in range(Yo.shape[0]):\n",
        "  Yo[i][1]=(cal_y[i][1]+cal_y[i][3])/C"
      ],
      "execution_count": 0,
      "outputs": []
    },
    {
      "cell_type": "code",
      "metadata": {
        "id": "5SR3KDg3q87U",
        "colab_type": "code",
        "outputId": "6e3eead2-a25a-423d-b8c7-199af94cdc38",
        "colab": {
          "base_uri": "https://localhost:8080/",
          "height": 34
        }
      },
      "source": [
        "G"
      ],
      "execution_count": 64,
      "outputs": [
        {
          "output_type": "execute_result",
          "data": {
            "text/plain": [
              "4"
            ]
          },
          "metadata": {
            "tags": []
          },
          "execution_count": 64
        }
      ]
    },
    {
      "cell_type": "code",
      "metadata": {
        "id": "hYZkiSfs2w2I",
        "colab_type": "code",
        "outputId": "7c7bf1a0-0dbb-4c36-bc2c-5b9331c8d4c6",
        "colab": {
          "base_uri": "https://localhost:8080/",
          "height": 85
        }
      },
      "source": [
        "m=np.array(df)\n",
        "Yg=np.zeros(shape=(m.shape[1],2))\n",
        "c=np.sum(m,axis=0)\n",
        "for i in range(Yg.shape[0]):\n",
        "  if i%2==0:\n",
        "    Yg[i][0]=c[i]/m.shape[0]\n",
        "    Yg[i][1]=1-Yg[i][0]\n",
        "  else:\n",
        "    Yg[i][1]=c[i]/m.shape[0]\n",
        "    Yg[i][0]=1-Yg[i][1]  \n",
        "Yg"
      ],
      "execution_count": 65,
      "outputs": [
        {
          "output_type": "execute_result",
          "data": {
            "text/plain": [
              "array([[0.44097439, 0.55902561],\n",
              "       [0.44097439, 0.55902561],\n",
              "       [0.48906933, 0.51093067],\n",
              "       [0.48906933, 0.51093067]])"
            ]
          },
          "metadata": {
            "tags": []
          },
          "execution_count": 65
        }
      ]
    },
    {
      "cell_type": "markdown",
      "metadata": {
        "id": "rTa6_2DsdIlO",
        "colab_type": "text"
      },
      "source": [
        "Genearting "
      ]
    },
    {
      "cell_type": "markdown",
      "metadata": {
        "id": "0hcY4DpgduI4",
        "colab_type": "text"
      },
      "source": [
        "Checking for the conditions specified in eq 6"
      ]
    },
    {
      "cell_type": "code",
      "metadata": {
        "id": "QHAljZHU21jH",
        "colab_type": "code",
        "outputId": "fedc056b-6055-4c04-e7fa-647bb2630cc2",
        "colab": {
          "base_uri": "https://localhost:8080/",
          "height": 51
        }
      },
      "source": [
        "Fo_cond=True\n",
        "Fg_cond=True\n",
        "for i in range(Fo.shape[0]):\n",
        "  if np.linalg.norm((Fo[i]), ord=1)!=1:\n",
        "    Fo_cond=False\n",
        "for i in range(Fg.shape[0]):\n",
        "  if np.linalg.norm((Fg[i]), ord=1)!=1:\n",
        "    Fo_cond=False    \n",
        "print(Fo_cond)\n",
        "print(Fg_cond)"
      ],
      "execution_count": 66,
      "outputs": [
        {
          "output_type": "stream",
          "text": [
            "True\n",
            "True\n"
          ],
          "name": "stdout"
        }
      ]
    },
    {
      "cell_type": "markdown",
      "metadata": {
        "id": "T7YlgtdbeCFc",
        "colab_type": "text"
      },
      "source": [
        "**Generating diagonal matrices Dm and Dc**"
      ]
    },
    {
      "cell_type": "code",
      "metadata": {
        "id": "a8cG1naJ3Cbk",
        "colab_type": "code",
        "outputId": "bf962695-d0dc-4bf8-a755-9449eee50d0b",
        "colab": {
          "base_uri": "https://localhost:8080/",
          "height": 51
        }
      },
      "source": [
        "test_dm=np.zeros(shape=(Km.shape))\n",
        "test_Km=Km\n",
        "for i in range(test_Km.shape[0]):\n",
        "  test_dm[i]=np.sum(test_Km[i],axis=0)\n",
        "Dm=np.diag(np.diag(test_dm))\n",
        "print(\"Shape of DM\",Dm.shape)\n",
        "test_dc=np.zeros(shape=(Kc.shape))\n",
        "test_Kc=Kc\n",
        "for i in range(test_Kc.shape[0]):\n",
        "  test_dc[i]=np.sum(test_Kc[i],axis=0)\n",
        "Dc=np.diag(np.diag(test_dc))\n",
        "print(\"shape of Dc\",Dc.shape)"
      ],
      "execution_count": 67,
      "outputs": [
        {
          "output_type": "stream",
          "text": [
            "Shape of DM (1601, 1601)\n",
            "shape of Dc (1601, 1601)\n"
          ],
          "name": "stdout"
        }
      ]
    },
    {
      "cell_type": "code",
      "metadata": {
        "id": "Bv1sYezy3Hwa",
        "colab_type": "code",
        "outputId": "c85fa0e9-8c86-42a7-9de0-22672cb49620",
        "colab": {
          "base_uri": "https://localhost:8080/",
          "height": 153
        }
      },
      "source": [
        "print(\"KHM\",Km.shape)\n",
        "print(\"KHC\",Kc.shape)\n",
        "print(\"Fo\",Fo.shape)\n",
        "print(\"Fg\",Fg.shape)\n",
        "print(\"Yo\",Yo.shape)\n",
        "print(\"Yg\",Yg.shape)\n",
        "print(\"Dm\",Dm.shape)\n",
        "print(\"Dc\",Dc.shape)"
      ],
      "execution_count": 68,
      "outputs": [
        {
          "output_type": "stream",
          "text": [
            "KHM (1601, 1601)\n",
            "KHC (1601, 1601)\n",
            "Fo (1601, 2)\n",
            "Fg (4, 2)\n",
            "Yo (1601, 2)\n",
            "Yg (4, 2)\n",
            "Dm (1601, 1601)\n",
            "Dc (1601, 1601)\n"
          ],
          "name": "stdout"
        }
      ]
    },
    {
      "cell_type": "code",
      "metadata": {
        "id": "dCBI0yrwqzOB",
        "colab_type": "code",
        "colab": {}
      },
      "source": [
        ""
      ],
      "execution_count": 0,
      "outputs": []
    },
    {
      "cell_type": "code",
      "metadata": {
        "id": "I5InaYBP3Lfq",
        "colab_type": "code",
        "outputId": "a5e8d593-c45f-4855-bebc-54bbb7574225",
        "colab": {
          "base_uri": "https://localhost:8080/",
          "height": 34
        }
      },
      "source": [
        "\n",
        "Yg=np.pad(Yg,pad_width=[(0, Km.shape[0]-G), (0, 0)])\n",
        "Yg.shape"
      ],
      "execution_count": 69,
      "outputs": [
        {
          "output_type": "execute_result",
          "data": {
            "text/plain": [
              "(1601, 2)"
            ]
          },
          "metadata": {
            "tags": []
          },
          "execution_count": 69
        }
      ]
    },
    {
      "cell_type": "code",
      "metadata": {
        "id": "Ro1G66qS5Pzv",
        "colab_type": "code",
        "outputId": "5976814b-e18b-40af-d8bf-13aea4d4b152",
        "colab": {
          "base_uri": "https://localhost:8080/",
          "height": 153
        }
      },
      "source": [
        "print(\"KHM\",Km.shape)\n",
        "print(\"KHC\",Kc.shape)\n",
        "print(\"Fo\",Fo.shape)\n",
        "print(\"Fg\",Fg.shape)\n",
        "print(\"Yo\",Yo.shape)\n",
        "print(\"Yg\",Yg.shape)\n",
        "print(\"Dm\",Dm.shape)\n",
        "print(\"Dc\",Dc.shape)"
      ],
      "execution_count": 70,
      "outputs": [
        {
          "output_type": "stream",
          "text": [
            "KHM (1601, 1601)\n",
            "KHC (1601, 1601)\n",
            "Fo (1601, 2)\n",
            "Fg (4, 2)\n",
            "Yo (1601, 2)\n",
            "Yg (1601, 2)\n",
            "Dm (1601, 1601)\n",
            "Dc (1601, 1601)\n"
          ],
          "name": "stdout"
        }
      ]
    },
    {
      "cell_type": "code",
      "metadata": {
        "id": "4OVQOQf35Tb7",
        "colab_type": "code",
        "colab": {}
      },
      "source": [
        "import sys\n",
        "threshold=sys.float_info.epsilon"
      ],
      "execution_count": 0,
      "outputs": []
    },
    {
      "cell_type": "markdown",
      "metadata": {
        "id": "oTILUgDfeX91",
        "colab_type": "text"
      },
      "source": [
        "**Implementing algorithm 2**"
      ]
    },
    {
      "cell_type": "code",
      "metadata": {
        "id": "NaOULbFt5XBQ",
        "colab_type": "code",
        "colab": {}
      },
      "source": [
        "alpha=0.15\n",
        "beta=0.35\n",
        "gamma=0.40\n",
        "delta=0.10\n",
        "Fo_t=np.zeros(shape=Fo.shape)\n",
        "Fg_t=np.zeros(shape=Fg.shape)\n",
        "Fot_old=np.zeros(shape=Fo.shape)\n",
        "Fo_t=Fo\n",
        "Fg_t=Fg\n",
        "while LA.norm((Fo_t-Fot_old),'fro')>threshold:\n",
        "  Fot_old=Fo_t\n",
        "  Fg_t=np.matmul((np.linalg.inv(2*delta*np.ones(shape=Dm.shape)+(alpha*Dm))),((alpha*np.matmul(Km,Fo_t))+(2*delta*Yg)))\n",
        "  Fo_t=np.matmul((np.linalg.inv((alpha*Dm)+(2*beta*Dc)-(beta*np.matmul(np.identity(Kc.shape[0]),Kc))-(beta*np.matmul(np.ones(shape=Kc.shape),Kc))+(2*gamma*np.identity(Kc.shape[0])))),((alpha*np.matmul(Km,Fg_t))+(2*gamma*Yo)))"
      ],
      "execution_count": 0,
      "outputs": []
    },
    {
      "cell_type": "code",
      "metadata": {
        "id": "ZhH4nVo_5e6_",
        "colab_type": "code",
        "outputId": "00c4ec09-b140-4732-a5a0-251f9342016c",
        "colab": {
          "base_uri": "https://localhost:8080/",
          "height": 85
        }
      },
      "source": [
        "from sklearn.metrics import accuracy_score\n",
        "result=np.zeros(shape=Fo_t.shape[0])\n",
        "for i in range(Fo_t.shape[0]):\n",
        "  if Fo_t[i][0]<Fo_t[i][1]:\n",
        "    result[i]=1\n",
        "print(\"Accuracy value for Ensemble model\",accuracy_score(y_val,result))\n",
        "print(\"AUC for for Ensemble model\",roc_auc_score(y_val,result))\n",
        "print(\"Accuracy value for LR\",accuracy_score(y_val,ypred))\n",
        "print(\"AUC for for LR\",roc_auc_score(y_val,ypred))\n",
        "\n"
      ],
      "execution_count": 73,
      "outputs": [
        {
          "output_type": "stream",
          "text": [
            "Accuracy value for Ensemble model 0.778263585259213\n",
            "AUC for for Ensemble model 0.7782045880149813\n",
            "Accuracy value for LR 0.7607745159275453\n",
            "AUC for for LR 0.7608114856429462\n"
          ],
          "name": "stdout"
        }
      ]
    },
    {
      "cell_type": "markdown",
      "metadata": {
        "id": "cUskNBtfe5C7",
        "colab_type": "text"
      },
      "source": [
        "**We see that the ensemble model performs better than the Random forest, Kneigbours and Svm models and is at par with the Logistic regression model that gives us the best accuracy. **"
      ]
    },
    {
      "cell_type": "code",
      "metadata": {
        "id": "4PPCRZWO5qq9",
        "colab_type": "code",
        "colab": {}
      },
      "source": [
        "\n",
        "     "
      ],
      "execution_count": 0,
      "outputs": []
    }
  ]
}