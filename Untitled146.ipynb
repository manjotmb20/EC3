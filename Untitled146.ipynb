{
  "nbformat": 4,
  "nbformat_minor": 0,
  "metadata": {
    "colab": {
      "name": "Untitled146.ipynb",
      "provenance": [],
      "include_colab_link": true
    },
    "kernelspec": {
      "name": "python3",
      "display_name": "Python 3"
    },
    "accelerator": "GPU"
  },
  "cells": [
    {
      "cell_type": "markdown",
      "metadata": {
        "id": "view-in-github",
        "colab_type": "text"
      },
      "source": [
        "<a href=\"https://colab.research.google.com/github/manjotmb20/EC3/blob/master/Untitled146.ipynb\" target=\"_parent\"><img src=\"https://colab.research.google.com/assets/colab-badge.svg\" alt=\"Open In Colab\"/></a>"
      ]
    },
    {
      "cell_type": "code",
      "metadata": {
        "id": "eRsugpIqUx_g",
        "colab_type": "code",
        "colab": {
          "base_uri": "https://localhost:8080/",
          "height": 51
        },
        "outputId": "ab327472-448d-4461-ae0e-6e3bd9b7a5a2"
      },
      "source": [
        "import numpy as np\n",
        "import matplotlib.pyplot as plt\n",
        "import pandas as pd\n",
        "import seaborn as sns\n",
        "from sklearn.preprocessing import LabelEncoder\n",
        "from sklearn.preprocessing import StandardScaler\n",
        "from sklearn.preprocessing import OneHotEncoder\n",
        "from numpy import linalg as LA\n",
        "import numpy as np\n",
        "import pandas as pd\n",
        "import matplotlib.pyplot as plt\n",
        "import seaborn as sns\n",
        "%matplotlib inline\n",
        "from sklearn.preprocessing import StandardScaler\n",
        "import nltk\n",
        "nltk.download(\"punkt\")\n",
        "# Warnings\n",
        "import warnings\n",
        "warnings.filterwarnings('ignore')"
      ],
      "execution_count": 1,
      "outputs": [
        {
          "output_type": "stream",
          "text": [
            "[nltk_data] Downloading package punkt to /root/nltk_data...\n",
            "[nltk_data]   Unzipping tokenizers/punkt.zip.\n"
          ],
          "name": "stdout"
        }
      ]
    },
    {
      "cell_type": "code",
      "metadata": {
        "id": "f-FEsE00VHhT",
        "colab_type": "code",
        "colab": {}
      },
      "source": [
        "data=pd.read_csv('data.csv')\n",
        "data.head()\n",
        "data['Class'][data['Class']=='g']=1\n",
        "data['Class'][data['Class']=='h']=0\n",
        "Y=pd.DataFrame(data.Class)\n",
        "data.drop('Class', inplace=True,axis=1)\n",
        "X=pd.DataFrame()\n",
        "X=data\n",
        "sc=StandardScaler()\n",
        "X=sc.fit_transform(X)\n",
        "X_train=data\n",
        "Y_train=Y['Class']\n",
        "Y_train=Y_train.astype('int')"
      ],
      "execution_count": 0,
      "outputs": []
    },
    {
      "cell_type": "code",
      "metadata": {
        "id": "rgcb1q57VNbO",
        "colab_type": "code",
        "colab": {
          "base_uri": "https://localhost:8080/",
          "height": 54
        },
        "outputId": "0e0db33a-9a5e-44ce-d139-3d16c45b3beb"
      },
      "source": [
        "'''df_train = pd.read_csv('train.csv')\n",
        "df_train[['Pclass', 'Survived']].groupby(['Pclass'], as_index=False).mean().sort_values(by='Survived', ascending=False)\n",
        "df_train[['Sex', 'Survived']].groupby(['Sex'], as_index=False).mean().sort_values(by='Survived', ascending=False)\n",
        "df_train[['SibSp', 'Survived']].groupby(['SibSp'], as_index=False).mean().sort_values(by='Survived', ascending=False)\n",
        "df_train[['Parch', 'Survived']].groupby(['Parch'], as_index=False).mean().sort_values(by='Survived', ascending=False)\n",
        "df_train = df_train.drop(['Ticket', 'Cabin'], axis=1)\n",
        "combine = [df_train]\n",
        "for dataset in combine:\n",
        "    dataset['Title'] = dataset.Name.str.extract('([A-Za-z]+)\\.', expand=False)\n",
        "pd.crosstab(df_train['Title'], df_train['Sex'])\n",
        "for dataset in combine:\n",
        "    dataset['Title'] = dataset['Title'].replace('Mlle', 'Miss')\n",
        "    dataset['Title'] = dataset['Title'].replace('Ms', 'Miss')\n",
        "    dataset['Title'] = dataset['Title'].replace('Mme', 'Mrs')\n",
        "    dataset['Title'] = dataset['Title'].replace(['Lady', 'Countess','Don', 'Sir', 'Jonkheer', 'Dona'],'Royalty')\n",
        "    dataset['Title'] = dataset['Title'].replace(['Capt', 'Col','Dr','Major','Rev'],'Special')\n",
        "df_train[['Title','Survived']].groupby(['Title'], as_index=False).mean()\n",
        "title_mapping = {\"Master\": 1, \"Miss\": 2, \"Mrs\": 3, \"Mr\": 4, \"Royalty\": 5, \"Special\": 6}\n",
        "for dataset in combine:\n",
        "    dataset['Title'] = dataset['Title'].map(title_mapping)\n",
        "    dataset['Title'] = dataset['Title'].fillna(0)\n",
        "df_train = df_train.drop(['Name', 'PassengerId'], axis=1)\n",
        "combine = [df_train]\n",
        "for dataset in combine:\n",
        "    dataset['Sex'] = dataset['Sex'].map( {'female': 1, 'male': 0} ).astype(int)\n",
        "median_age = np.zeros((2,3))\n",
        "for dataset in combine:\n",
        "    for sex in range(0,2):\n",
        "        for pclass in range(0,3):\n",
        "            guess_df = dataset[(dataset['Sex'] == sex) & \\\n",
        "                                  (dataset['Pclass'] == pclass+1)]['Age'].dropna()\n",
        "            age_guess = guess_df.median()\n",
        "            median_age[sex,pclass] = age_guess\n",
        "\n",
        "for dataset in combine:\n",
        "    for i in range(0, 2):\n",
        "        for j in range(0, 3):\n",
        "            dataset.loc[ (dataset.Age.isnull()) & (dataset.Sex == i) & (dataset.Pclass == j+1),\\\n",
        "                    'Age'] = median_age[i,j]\n",
        "\n",
        "dataset['Age'] = dataset['Age'].astype(int)\n",
        "df_train['AgeBand'] = pd.cut(df_train['Age'], 5)\n",
        "df_train[['AgeBand', 'Survived']].groupby(['AgeBand'], as_index=False).mean().sort_values(by='AgeBand', ascending=True)\n",
        "for dataset in combine:\n",
        "    dataset.loc[ dataset['Age'] <= 16, 'AgeG'] = 0\n",
        "    dataset.loc[(dataset['Age'] > 16) & (dataset['Age'] <= 32), 'AgeG'] = 1\n",
        "    dataset.loc[(dataset['Age'] > 32) & (dataset['Age'] <= 48), 'AgeG'] = 2\n",
        "    dataset.loc[(dataset['Age'] > 48) & (dataset['Age'] <= 64), 'AgeG'] = 3\n",
        "    dataset.loc[ dataset['Age'] > 64, 'AgeG'] = 4\n",
        "df_train = df_train.drop(['AgeBand','Age'], axis=1)\n",
        "combine = [df_train]\n",
        "for dataset in combine:\n",
        "    dataset['FamilySize'] = dataset['SibSp'] + dataset['Parch'] + 1\n",
        "\n",
        "df_train[['FamilySize','Survived']].groupby(['FamilySize'], as_index=False).mean().sort_values(by='Survived', ascending=False) \n",
        "df_train = df_train.drop(['SibSp', 'Parch'], axis=1)\n",
        "combine = [df_train]\n",
        "freq_port = df_train.Embarked.dropna().mode()[0]\n",
        "for dataset in combine:\n",
        "    dataset['Embarked'] = dataset['Embarked'].fillna(freq_port)\n",
        "df_train[['Embarked','Survived']].groupby(['Embarked'], as_index = False).mean().sort_values(by='Survived', ascending=False)\n",
        "for dataset in combine:\n",
        "    dataset['Embarked'] = dataset['Embarked'].map( {'S': 0, 'C': 1, 'Q': 2} ).astype(int)\n",
        "df_train = df_train.drop(['Fare'], axis=1)\n",
        "combine = [df_train]\n",
        "for dataset in combine:\n",
        "    dataset.AgeG = dataset.AgeG.astype(int)\n",
        "X_train = df_train.drop(\"Survived\", axis=1)\n",
        "Y_train = df_train['Survived'] '''"
      ],
      "execution_count": 25,
      "outputs": [
        {
          "output_type": "execute_result",
          "data": {
            "text/plain": [
              "'df_train = pd.read_csv(\\'train.csv\\')\\ndf_train[[\\'Pclass\\', \\'Survived\\']].groupby([\\'Pclass\\'], as_index=False).mean().sort_values(by=\\'Survived\\', ascending=False)\\ndf_train[[\\'Sex\\', \\'Survived\\']].groupby([\\'Sex\\'], as_index=False).mean().sort_values(by=\\'Survived\\', ascending=False)\\ndf_train[[\\'SibSp\\', \\'Survived\\']].groupby([\\'SibSp\\'], as_index=False).mean().sort_values(by=\\'Survived\\', ascending=False)\\ndf_train[[\\'Parch\\', \\'Survived\\']].groupby([\\'Parch\\'], as_index=False).mean().sort_values(by=\\'Survived\\', ascending=False)\\ndf_train = df_train.drop([\\'Ticket\\', \\'Cabin\\'], axis=1)\\ncombine = [df_train]\\nfor dataset in combine:\\n    dataset[\\'Title\\'] = dataset.Name.str.extract(\\'([A-Za-z]+)\\\\.\\', expand=False)\\npd.crosstab(df_train[\\'Title\\'], df_train[\\'Sex\\'])\\nfor dataset in combine:\\n    dataset[\\'Title\\'] = dataset[\\'Title\\'].replace(\\'Mlle\\', \\'Miss\\')\\n    dataset[\\'Title\\'] = dataset[\\'Title\\'].replace(\\'Ms\\', \\'Miss\\')\\n    dataset[\\'Title\\'] = dataset[\\'Title\\'].replace(\\'Mme\\', \\'Mrs\\')\\n    dataset[\\'Title\\'] = dataset[\\'Title\\'].replace([\\'Lady\\', \\'Countess\\',\\'Don\\', \\'Sir\\', \\'Jonkheer\\', \\'Dona\\'],\\'Royalty\\')\\n    dataset[\\'Title\\'] = dataset[\\'Title\\'].replace([\\'Capt\\', \\'Col\\',\\'Dr\\',\\'Major\\',\\'Rev\\'],\\'Special\\')\\ndf_train[[\\'Title\\',\\'Survived\\']].groupby([\\'Title\\'], as_index=False).mean()\\ntitle_mapping = {\"Master\": 1, \"Miss\": 2, \"Mrs\": 3, \"Mr\": 4, \"Royalty\": 5, \"Special\": 6}\\nfor dataset in combine:\\n    dataset[\\'Title\\'] = dataset[\\'Title\\'].map(title_mapping)\\n    dataset[\\'Title\\'] = dataset[\\'Title\\'].fillna(0)\\ndf_train = df_train.drop([\\'Name\\', \\'PassengerId\\'], axis=1)\\ncombine = [df_train]\\nfor dataset in combine:\\n    dataset[\\'Sex\\'] = dataset[\\'Sex\\'].map( {\\'female\\': 1, \\'male\\': 0} ).astype(int)\\nmedian_age = np.zeros((2,3))\\nfor dataset in combine:\\n    for sex in range(0,2):\\n        for pclass in range(0,3):\\n            guess_df = dataset[(dataset[\\'Sex\\'] == sex) &                                   (dataset[\\'Pclass\\'] == pclass+1)][\\'Age\\'].dropna()\\n            age_guess = guess_df.median()\\n            median_age[sex,pclass] = age_guess\\n\\nfor dataset in combine:\\n    for i in range(0, 2):\\n        for j in range(0, 3):\\n            dataset.loc[ (dataset.Age.isnull()) & (dataset.Sex == i) & (dataset.Pclass == j+1),                    \\'Age\\'] = median_age[i,j]\\n\\ndataset[\\'Age\\'] = dataset[\\'Age\\'].astype(int)\\ndf_train[\\'AgeBand\\'] = pd.cut(df_train[\\'Age\\'], 5)\\ndf_train[[\\'AgeBand\\', \\'Survived\\']].groupby([\\'AgeBand\\'], as_index=False).mean().sort_values(by=\\'AgeBand\\', ascending=True)\\nfor dataset in combine:\\n    dataset.loc[ dataset[\\'Age\\'] <= 16, \\'AgeG\\'] = 0\\n    dataset.loc[(dataset[\\'Age\\'] > 16) & (dataset[\\'Age\\'] <= 32), \\'AgeG\\'] = 1\\n    dataset.loc[(dataset[\\'Age\\'] > 32) & (dataset[\\'Age\\'] <= 48), \\'AgeG\\'] = 2\\n    dataset.loc[(dataset[\\'Age\\'] > 48) & (dataset[\\'Age\\'] <= 64), \\'AgeG\\'] = 3\\n    dataset.loc[ dataset[\\'Age\\'] > 64, \\'AgeG\\'] = 4\\ndf_train = df_train.drop([\\'AgeBand\\',\\'Age\\'], axis=1)\\ncombine = [df_train]\\nfor dataset in combine:\\n    dataset[\\'FamilySize\\'] = dataset[\\'SibSp\\'] + dataset[\\'Parch\\'] + 1\\n\\ndf_train[[\\'FamilySize\\',\\'Survived\\']].groupby([\\'FamilySize\\'], as_index=False).mean().sort_values(by=\\'Survived\\', ascending=False) \\ndf_train = df_train.drop([\\'SibSp\\', \\'Parch\\'], axis=1)\\ncombine = [df_train]\\nfreq_port = df_train.Embarked.dropna().mode()[0]\\nfor dataset in combine:\\n    dataset[\\'Embarked\\'] = dataset[\\'Embarked\\'].fillna(freq_port)\\ndf_train[[\\'Embarked\\',\\'Survived\\']].groupby([\\'Embarked\\'], as_index = False).mean().sort_values(by=\\'Survived\\', ascending=False)\\nfor dataset in combine:\\n    dataset[\\'Embarked\\'] = dataset[\\'Embarked\\'].map( {\\'S\\': 0, \\'C\\': 1, \\'Q\\': 2} ).astype(int)\\ndf_train = df_train.drop([\\'Fare\\'], axis=1)\\ncombine = [df_train]\\nfor dataset in combine:\\n    dataset.AgeG = dataset.AgeG.astype(int)\\nX_train = df_train.drop(\"Survived\", axis=1)\\nY_train = df_train[\\'Survived\\'] '"
            ]
          },
          "metadata": {
            "tags": []
          },
          "execution_count": 25
        }
      ]
    },
    {
      "cell_type": "code",
      "metadata": {
        "id": "fJjpiOJ5WaAh",
        "colab_type": "code",
        "colab": {
          "base_uri": "https://localhost:8080/",
          "height": 51
        },
        "outputId": "6c39fc9f-db90-4873-f4df-d4767a0bf3a2"
      },
      "source": [
        "from sklearn.linear_model import LogisticRegression\n",
        "from sklearn.model_selection import train_test_split\n",
        "from sklearn.tree import DecisionTreeClassifier\n",
        "from sklearn.svm import SVC\n",
        "classifier3=SVC(probability=True)\n",
        "from sklearn.metrics import roc_auc_score,accuracy_score\n",
        "x_train,x_val,y_train,y_val=train_test_split(X_train,Y_train,test_size=0.2,random_state=9)\n",
        "classifier=LogisticRegression(random_state=0)\n",
        "classifier.fit(x_train,y_train)\n",
        "ypred=classifier.predict(x_val)\n",
        "print(\"ROC score of LR\",roc_auc_score(y_val,ypred))\n",
        "y_prob=classifier.predict_proba(x_val)\n",
        "df=pd.DataFrame()\n",
        "df['pred']=ypred\n",
        "survived=pd.get_dummies(df.pred,prefix='Survived')\n",
        "df=pd.concat([df,survived],axis=1)\n",
        "df.drop('pred',inplace=True,axis=1)\n",
        "df2=pd.DataFrame()\n",
        "classifier3.fit(x_train,y_train)\n",
        "ypred3=classifier3.predict(x_val)\n",
        "print(\"ROC score of SVM\",roc_auc_score(y_val,ypred3))\n",
        "df2['pred']=ypred3\n",
        "y_prob3=classifier3.predict_proba(x_val)\n",
        "survived2=pd.get_dummies(df2.pred,prefix='Surviveds')\n",
        "df=pd.concat([df,survived2],axis=1)"
      ],
      "execution_count": 26,
      "outputs": [
        {
          "output_type": "stream",
          "text": [
            "ROC score of LR 0.7448356932811848\n",
            "ROC score of SVM 0.7718594415706674\n"
          ],
          "name": "stdout"
        }
      ]
    },
    {
      "cell_type": "code",
      "metadata": {
        "id": "OoabX8MPWmYF",
        "colab_type": "code",
        "colab": {
          "base_uri": "https://localhost:8080/",
          "height": 419
        },
        "outputId": "86f79e07-bba1-4bc2-920d-924fd902b9af"
      },
      "source": [
        "df"
      ],
      "execution_count": 27,
      "outputs": [
        {
          "output_type": "execute_result",
          "data": {
            "text/html": [
              "<div>\n",
              "<style scoped>\n",
              "    .dataframe tbody tr th:only-of-type {\n",
              "        vertical-align: middle;\n",
              "    }\n",
              "\n",
              "    .dataframe tbody tr th {\n",
              "        vertical-align: top;\n",
              "    }\n",
              "\n",
              "    .dataframe thead th {\n",
              "        text-align: right;\n",
              "    }\n",
              "</style>\n",
              "<table border=\"1\" class=\"dataframe\">\n",
              "  <thead>\n",
              "    <tr style=\"text-align: right;\">\n",
              "      <th></th>\n",
              "      <th>Survived_0</th>\n",
              "      <th>Survived_1</th>\n",
              "      <th>Surviveds_0</th>\n",
              "      <th>Surviveds_1</th>\n",
              "    </tr>\n",
              "  </thead>\n",
              "  <tbody>\n",
              "    <tr>\n",
              "      <th>0</th>\n",
              "      <td>1</td>\n",
              "      <td>0</td>\n",
              "      <td>1</td>\n",
              "      <td>0</td>\n",
              "    </tr>\n",
              "    <tr>\n",
              "      <th>1</th>\n",
              "      <td>0</td>\n",
              "      <td>1</td>\n",
              "      <td>0</td>\n",
              "      <td>1</td>\n",
              "    </tr>\n",
              "    <tr>\n",
              "      <th>2</th>\n",
              "      <td>0</td>\n",
              "      <td>1</td>\n",
              "      <td>0</td>\n",
              "      <td>1</td>\n",
              "    </tr>\n",
              "    <tr>\n",
              "      <th>3</th>\n",
              "      <td>1</td>\n",
              "      <td>0</td>\n",
              "      <td>1</td>\n",
              "      <td>0</td>\n",
              "    </tr>\n",
              "    <tr>\n",
              "      <th>4</th>\n",
              "      <td>1</td>\n",
              "      <td>0</td>\n",
              "      <td>0</td>\n",
              "      <td>1</td>\n",
              "    </tr>\n",
              "    <tr>\n",
              "      <th>...</th>\n",
              "      <td>...</td>\n",
              "      <td>...</td>\n",
              "      <td>...</td>\n",
              "      <td>...</td>\n",
              "    </tr>\n",
              "    <tr>\n",
              "      <th>3799</th>\n",
              "      <td>0</td>\n",
              "      <td>1</td>\n",
              "      <td>0</td>\n",
              "      <td>1</td>\n",
              "    </tr>\n",
              "    <tr>\n",
              "      <th>3800</th>\n",
              "      <td>0</td>\n",
              "      <td>1</td>\n",
              "      <td>0</td>\n",
              "      <td>1</td>\n",
              "    </tr>\n",
              "    <tr>\n",
              "      <th>3801</th>\n",
              "      <td>0</td>\n",
              "      <td>1</td>\n",
              "      <td>0</td>\n",
              "      <td>1</td>\n",
              "    </tr>\n",
              "    <tr>\n",
              "      <th>3802</th>\n",
              "      <td>0</td>\n",
              "      <td>1</td>\n",
              "      <td>0</td>\n",
              "      <td>1</td>\n",
              "    </tr>\n",
              "    <tr>\n",
              "      <th>3803</th>\n",
              "      <td>0</td>\n",
              "      <td>1</td>\n",
              "      <td>0</td>\n",
              "      <td>1</td>\n",
              "    </tr>\n",
              "  </tbody>\n",
              "</table>\n",
              "<p>3804 rows × 4 columns</p>\n",
              "</div>"
            ],
            "text/plain": [
              "      Survived_0  Survived_1  Surviveds_0  Surviveds_1\n",
              "0              1           0            1            0\n",
              "1              0           1            0            1\n",
              "2              0           1            0            1\n",
              "3              1           0            1            0\n",
              "4              1           0            0            1\n",
              "...          ...         ...          ...          ...\n",
              "3799           0           1            0            1\n",
              "3800           0           1            0            1\n",
              "3801           0           1            0            1\n",
              "3802           0           1            0            1\n",
              "3803           0           1            0            1\n",
              "\n",
              "[3804 rows x 4 columns]"
            ]
          },
          "metadata": {
            "tags": []
          },
          "execution_count": 27
        }
      ]
    },
    {
      "cell_type": "code",
      "metadata": {
        "id": "8L2Gw4IPEtJh",
        "colab_type": "code",
        "colab": {}
      },
      "source": [
        "from sklearn.cluster import KMeans\n",
        "kmeans = KMeans(n_clusters=2,max_iter=100)\n",
        "kmeans.fit(x_train)\n",
        "k_pred=kmeans.predict(x_val)\n",
        "accuracy_score(y_val,k_pred)\n",
        "df_kmeans=pd.DataFrame()\n",
        "df_kmeans['Survived_k']=k_pred\n",
        "survivedk=pd.get_dummies(df_kmeans.Survived_k,prefix='Survivedk')\n"
      ],
      "execution_count": 0,
      "outputs": []
    },
    {
      "cell_type": "code",
      "metadata": {
        "id": "VfU_PBeUGySQ",
        "colab_type": "code",
        "colab": {}
      },
      "source": [
        "kmeans.predict"
      ],
      "execution_count": 0,
      "outputs": []
    },
    {
      "cell_type": "code",
      "metadata": {
        "id": "GnN7CGLWF9oL",
        "colab_type": "code",
        "colab": {
          "base_uri": "https://localhost:8080/",
          "height": 436
        },
        "outputId": "5b8c3edf-1f5e-4822-8fda-2ca3fc6da91b"
      },
      "source": [
        "df['Survivedk_0']=survivedk['Survivedk_0']\n",
        "df['Survivedk_1']=survivedk['Survivedk_1']\n",
        "print(\"Accuracy score of Kmeans\",accuracy_score(y_val,k_pred))\n",
        "df"
      ],
      "execution_count": 29,
      "outputs": [
        {
          "output_type": "stream",
          "text": [
            "Accuracy score of Kmeans 0.3412197686645636\n"
          ],
          "name": "stdout"
        },
        {
          "output_type": "execute_result",
          "data": {
            "text/html": [
              "<div>\n",
              "<style scoped>\n",
              "    .dataframe tbody tr th:only-of-type {\n",
              "        vertical-align: middle;\n",
              "    }\n",
              "\n",
              "    .dataframe tbody tr th {\n",
              "        vertical-align: top;\n",
              "    }\n",
              "\n",
              "    .dataframe thead th {\n",
              "        text-align: right;\n",
              "    }\n",
              "</style>\n",
              "<table border=\"1\" class=\"dataframe\">\n",
              "  <thead>\n",
              "    <tr style=\"text-align: right;\">\n",
              "      <th></th>\n",
              "      <th>Survived_0</th>\n",
              "      <th>Survived_1</th>\n",
              "      <th>Surviveds_0</th>\n",
              "      <th>Surviveds_1</th>\n",
              "      <th>Survivedk_0</th>\n",
              "      <th>Survivedk_1</th>\n",
              "    </tr>\n",
              "  </thead>\n",
              "  <tbody>\n",
              "    <tr>\n",
              "      <th>0</th>\n",
              "      <td>1</td>\n",
              "      <td>0</td>\n",
              "      <td>1</td>\n",
              "      <td>0</td>\n",
              "      <td>0</td>\n",
              "      <td>1</td>\n",
              "    </tr>\n",
              "    <tr>\n",
              "      <th>1</th>\n",
              "      <td>0</td>\n",
              "      <td>1</td>\n",
              "      <td>0</td>\n",
              "      <td>1</td>\n",
              "      <td>1</td>\n",
              "      <td>0</td>\n",
              "    </tr>\n",
              "    <tr>\n",
              "      <th>2</th>\n",
              "      <td>0</td>\n",
              "      <td>1</td>\n",
              "      <td>0</td>\n",
              "      <td>1</td>\n",
              "      <td>0</td>\n",
              "      <td>1</td>\n",
              "    </tr>\n",
              "    <tr>\n",
              "      <th>3</th>\n",
              "      <td>1</td>\n",
              "      <td>0</td>\n",
              "      <td>1</td>\n",
              "      <td>0</td>\n",
              "      <td>1</td>\n",
              "      <td>0</td>\n",
              "    </tr>\n",
              "    <tr>\n",
              "      <th>4</th>\n",
              "      <td>1</td>\n",
              "      <td>0</td>\n",
              "      <td>0</td>\n",
              "      <td>1</td>\n",
              "      <td>1</td>\n",
              "      <td>0</td>\n",
              "    </tr>\n",
              "    <tr>\n",
              "      <th>...</th>\n",
              "      <td>...</td>\n",
              "      <td>...</td>\n",
              "      <td>...</td>\n",
              "      <td>...</td>\n",
              "      <td>...</td>\n",
              "      <td>...</td>\n",
              "    </tr>\n",
              "    <tr>\n",
              "      <th>3799</th>\n",
              "      <td>0</td>\n",
              "      <td>1</td>\n",
              "      <td>0</td>\n",
              "      <td>1</td>\n",
              "      <td>1</td>\n",
              "      <td>0</td>\n",
              "    </tr>\n",
              "    <tr>\n",
              "      <th>3800</th>\n",
              "      <td>0</td>\n",
              "      <td>1</td>\n",
              "      <td>0</td>\n",
              "      <td>1</td>\n",
              "      <td>1</td>\n",
              "      <td>0</td>\n",
              "    </tr>\n",
              "    <tr>\n",
              "      <th>3801</th>\n",
              "      <td>0</td>\n",
              "      <td>1</td>\n",
              "      <td>0</td>\n",
              "      <td>1</td>\n",
              "      <td>1</td>\n",
              "      <td>0</td>\n",
              "    </tr>\n",
              "    <tr>\n",
              "      <th>3802</th>\n",
              "      <td>0</td>\n",
              "      <td>1</td>\n",
              "      <td>0</td>\n",
              "      <td>1</td>\n",
              "      <td>0</td>\n",
              "      <td>1</td>\n",
              "    </tr>\n",
              "    <tr>\n",
              "      <th>3803</th>\n",
              "      <td>0</td>\n",
              "      <td>1</td>\n",
              "      <td>0</td>\n",
              "      <td>1</td>\n",
              "      <td>1</td>\n",
              "      <td>0</td>\n",
              "    </tr>\n",
              "  </tbody>\n",
              "</table>\n",
              "<p>3804 rows × 6 columns</p>\n",
              "</div>"
            ],
            "text/plain": [
              "      Survived_0  Survived_1  ...  Survivedk_0  Survivedk_1\n",
              "0              1           0  ...            0            1\n",
              "1              0           1  ...            1            0\n",
              "2              0           1  ...            0            1\n",
              "3              1           0  ...            1            0\n",
              "4              1           0  ...            1            0\n",
              "...          ...         ...  ...          ...          ...\n",
              "3799           0           1  ...            1            0\n",
              "3800           0           1  ...            1            0\n",
              "3801           0           1  ...            1            0\n",
              "3802           0           1  ...            0            1\n",
              "3803           0           1  ...            1            0\n",
              "\n",
              "[3804 rows x 6 columns]"
            ]
          },
          "metadata": {
            "tags": []
          },
          "execution_count": 29
        }
      ]
    },
    {
      "cell_type": "code",
      "metadata": {
        "id": "vABVgXxZW1rU",
        "colab_type": "code",
        "colab": {
          "base_uri": "https://localhost:8080/",
          "height": 34
        },
        "outputId": "227b4d1e-f305-400b-8ee5-4a6c7cc730a1"
      },
      "source": [
        "A=np.array(df)\n",
        "A.shape"
      ],
      "execution_count": 30,
      "outputs": [
        {
          "output_type": "execute_result",
          "data": {
            "text/plain": [
              "(3804, 6)"
            ]
          },
          "metadata": {
            "tags": []
          },
          "execution_count": 30
        }
      ]
    },
    {
      "cell_type": "code",
      "metadata": {
        "id": "rSC_Pf8RXcbj",
        "colab_type": "code",
        "colab": {}
      },
      "source": [
        ""
      ],
      "execution_count": 0,
      "outputs": []
    },
    {
      "cell_type": "code",
      "metadata": {
        "id": "0F5ezx2mXyw5",
        "colab_type": "code",
        "colab": {
          "base_uri": "https://localhost:8080/",
          "height": 54
        },
        "outputId": "3ee298b2-4d93-44c5-f29b-1166b1c17cb5"
      },
      "source": [
        "objclass_mat1=pd.DataFrame(y_prob,columns=['Survived','NotSurvived'])\n",
        "objclass_mat2=pd.DataFrame(y_prob3,columns=['Survived','NotSurvived'])\n",
        "objclass_mat3=pd.DataFrame(y_prob3,columns=['Survived','NotSurvived'])\n",
        "df_t=pd.DataFrame(objclass_mat1)\n",
        "df_t['Survived2']=objclass_mat2['Survived']\n",
        "df_t['NotSurvived2']=objclass_mat2['NotSurvived']\n",
        "df_t['Survived3']=objclass_mat3['Survived']\n",
        "df_t['NotSurvived3']=objclass_mat3['NotSurvived']\n",
        "\n",
        "G=6\n",
        "C=2\n",
        "m=G/2\n",
        "n=df_t.shape[0]\n",
        "dft=np.array(df_t)\n",
        "Fo=np.zeros(shape=(n,C))\n",
        "for i in range(n):\n",
        "  sum1=0\n",
        "  for j in range(0,G,2):\n",
        "    sum1=sum1+dft[i][j]\n",
        "  Fo[i][0]=sum1/m \n",
        "  sum2=0\n",
        "  for j in range(1,G,2):\n",
        "    sum2=sum2+dft[i][j]\n",
        "  Fo[i][1]=sum2/m\n",
        "'''gpclass_mat=pd.DataFrame(columns=['Survived','NotSurvived'],index=['class1surv','class1notsurv','class2surv','class2notsurv'])\n",
        "prob1s=np.sum(objclass_mat1.Survived)/len(objclass_mat1)\n",
        "prob1ns=np.sum(objclass_mat1.NotSurvived)/len(objclass_mat1)\n",
        "prob2s=np.sum(objclass_mat2.Survived)/len(objclass_mat2)\n",
        "prob2ns=np.sum(objclass_mat2.NotSurvived)/len(objclass_mat2)\n",
        "list1=[]\n",
        "list1.append(prob1s)\n",
        "list1.append(prob1ns)\n",
        "list1.append(prob2s)\n",
        "list1.append(prob2ns)\n",
        "\n",
        "list2=[]\n",
        "list2.append(prob1ns)\n",
        "list2.append(prob1s)\n",
        "list2.append(prob2ns)\n",
        "list2.append(prob2s)\n",
        "gpclass_mat['Survived']=list1\n",
        "gpclass_mat['NotSurvived']=list2\n",
        "gpclass_mat\n",
        "Fg=np.array(gpclass_mat)\n",
        "Fg'''"
      ],
      "execution_count": 31,
      "outputs": [
        {
          "output_type": "execute_result",
          "data": {
            "text/plain": [
              "\"gpclass_mat=pd.DataFrame(columns=['Survived','NotSurvived'],index=['class1surv','class1notsurv','class2surv','class2notsurv'])\\nprob1s=np.sum(objclass_mat1.Survived)/len(objclass_mat1)\\nprob1ns=np.sum(objclass_mat1.NotSurvived)/len(objclass_mat1)\\nprob2s=np.sum(objclass_mat2.Survived)/len(objclass_mat2)\\nprob2ns=np.sum(objclass_mat2.NotSurvived)/len(objclass_mat2)\\nlist1=[]\\nlist1.append(prob1s)\\nlist1.append(prob1ns)\\nlist1.append(prob2s)\\nlist1.append(prob2ns)\\n\\nlist2=[]\\nlist2.append(prob1ns)\\nlist2.append(prob1s)\\nlist2.append(prob2ns)\\nlist2.append(prob2s)\\ngpclass_mat['Survived']=list1\\ngpclass_mat['NotSurvived']=list2\\ngpclass_mat\\nFg=np.array(gpclass_mat)\\nFg\""
            ]
          },
          "metadata": {
            "tags": []
          },
          "execution_count": 31
        }
      ]
    },
    {
      "cell_type": "code",
      "metadata": {
        "id": "5QwtubgAdWM6",
        "colab_type": "code",
        "colab": {}
      },
      "source": [
        "U=np.array(Fo)"
      ],
      "execution_count": 0,
      "outputs": []
    },
    {
      "cell_type": "code",
      "metadata": {
        "id": "NqjDG_BgJEWu",
        "colab_type": "code",
        "colab": {
          "base_uri": "https://localhost:8080/",
          "height": 136
        },
        "outputId": "2fd37893-cb1d-484f-acb5-edf920af5df8"
      },
      "source": [
        "Fo"
      ],
      "execution_count": 33,
      "outputs": [
        {
          "output_type": "execute_result",
          "data": {
            "text/plain": [
              "array([[0.67584931, 0.32415069],\n",
              "       [0.11821934, 0.88178066],\n",
              "       [0.13972817, 0.86027183],\n",
              "       ...,\n",
              "       [0.24256884, 0.75743116],\n",
              "       [0.18314069, 0.81685931],\n",
              "       [0.44131002, 0.55868998]])"
            ]
          },
          "metadata": {
            "tags": []
          },
          "execution_count": 33
        }
      ]
    },
    {
      "cell_type": "code",
      "metadata": {
        "id": "McAyws0xYTyR",
        "colab_type": "code",
        "colab": {}
      },
      "source": [
        ""
      ],
      "execution_count": 0,
      "outputs": []
    },
    {
      "cell_type": "code",
      "metadata": {
        "id": "2liJKiRSYUyh",
        "colab_type": "code",
        "colab": {
          "base_uri": "https://localhost:8080/",
          "height": 34
        },
        "outputId": "a5b8624c-f537-43f7-a6b6-3f3f1a036fed"
      },
      "source": [
        "m=np.array(df)\n",
        "Yg=np.zeros(shape=(m.shape[1],2))\n",
        "c=np.sum(m,axis=0)\n",
        "for i in range(Yg.shape[0]):\n",
        "  if i%2==0:\n",
        "    Yg[i][0]=c[i]/m.shape[0]\n",
        "    Yg[i][1]=1-Yg[i][0]\n",
        "  else:\n",
        "    Yg[i][1]=c[i]/m.shape[0]\n",
        "    Yg[i][0]=1-Yg[i][1]  \n",
        "Yg.shape    "
      ],
      "execution_count": 36,
      "outputs": [
        {
          "output_type": "execute_result",
          "data": {
            "text/plain": [
              "(6, 2)"
            ]
          },
          "metadata": {
            "tags": []
          },
          "execution_count": 36
        }
      ]
    },
    {
      "cell_type": "code",
      "metadata": {
        "id": "YlX4xkpYJlqN",
        "colab_type": "code",
        "colab": {
          "base_uri": "https://localhost:8080/",
          "height": 119
        },
        "outputId": "9bed86c6-f270-4ecc-d5e0-c903c524f3bd"
      },
      "source": [
        "\n",
        "Yg"
      ],
      "execution_count": 37,
      "outputs": [
        {
          "output_type": "execute_result",
          "data": {
            "text/plain": [
              "array([[0.26314406, 0.73685594],\n",
              "       [0.26314406, 0.73685594],\n",
              "       [0.23107256, 0.76892744],\n",
              "       [0.23107256, 0.76892744],\n",
              "       [0.80599369, 0.19400631],\n",
              "       [0.80599369, 0.19400631]])"
            ]
          },
          "metadata": {
            "tags": []
          },
          "execution_count": 37
        }
      ]
    },
    {
      "cell_type": "code",
      "metadata": {
        "id": "nt2qAAn7JhGf",
        "colab_type": "code",
        "colab": {}
      },
      "source": [
        "Fg=Yg\n",
        "Q=np.array(Fg)"
      ],
      "execution_count": 0,
      "outputs": []
    },
    {
      "cell_type": "code",
      "metadata": {
        "id": "hq_OlGsFaBCY",
        "colab_type": "code",
        "colab": {}
      },
      "source": [
        "Y=np.array(Yg)"
      ],
      "execution_count": 0,
      "outputs": []
    },
    {
      "cell_type": "code",
      "metadata": {
        "id": "xtvyiFk8pGmH",
        "colab_type": "code",
        "colab": {
          "base_uri": "https://localhost:8080/",
          "height": 119
        },
        "outputId": "42f726c8-9a3b-4445-c123-8299658d2239"
      },
      "source": [
        "for i in range(Y.shape[0]):\n",
        "  for j in range(Y.shape[1]):\n",
        "    if Y[i][j]>0.5:\n",
        "      Y[i][j]=1\n",
        "    else:\n",
        "      Y[i][j]=0\n",
        "\n",
        "Y        "
      ],
      "execution_count": 43,
      "outputs": [
        {
          "output_type": "execute_result",
          "data": {
            "text/plain": [
              "array([[0., 1.],\n",
              "       [0., 1.],\n",
              "       [0., 1.],\n",
              "       [0., 1.],\n",
              "       [1., 0.],\n",
              "       [1., 0.]])"
            ]
          },
          "metadata": {
            "tags": []
          },
          "execution_count": 43
        }
      ]
    },
    {
      "cell_type": "code",
      "metadata": {
        "id": "ZtZ5TuDfbdEm",
        "colab_type": "code",
        "colab": {}
      },
      "source": [
        "import sys\n",
        "threshold=sys.float_info.epsilon"
      ],
      "execution_count": 0,
      "outputs": []
    },
    {
      "cell_type": "code",
      "metadata": {
        "id": "WqnXTylPcyRR",
        "colab_type": "code",
        "colab": {
          "base_uri": "https://localhost:8080/",
          "height": 119
        },
        "outputId": "aedd1552-c8cf-4aaa-d409-667d9f54fbae"
      },
      "source": [
        "D_sum=np.sum(A,axis=0)\n",
        "Dv=np.diag(D_sum)\n",
        "Dv"
      ],
      "execution_count": 45,
      "outputs": [
        {
          "output_type": "execute_result",
          "data": {
            "text/plain": [
              "array([[1001,    0,    0,    0,    0,    0],\n",
              "       [   0, 2803,    0,    0,    0,    0],\n",
              "       [   0,    0,  879,    0,    0,    0],\n",
              "       [   0,    0,    0, 2925,    0,    0],\n",
              "       [   0,    0,    0,    0, 3066,    0],\n",
              "       [   0,    0,    0,    0,    0,  738]], dtype=uint64)"
            ]
          },
          "metadata": {
            "tags": []
          },
          "execution_count": 45
        }
      ]
    },
    {
      "cell_type": "code",
      "metadata": {
        "id": "fGqCWUzxdgRY",
        "colab_type": "code",
        "colab": {
          "base_uri": "https://localhost:8080/",
          "height": 136
        },
        "outputId": "430e45c5-223c-4289-ca40-35df1a466673"
      },
      "source": [
        "Dn_sum=np.sum(A,axis=1)\n",
        "Dn=np.diag(Dn_sum)\n",
        "Dn"
      ],
      "execution_count": 46,
      "outputs": [
        {
          "output_type": "execute_result",
          "data": {
            "text/plain": [
              "array([[3, 0, 0, ..., 0, 0, 0],\n",
              "       [0, 3, 0, ..., 0, 0, 0],\n",
              "       [0, 0, 3, ..., 0, 0, 0],\n",
              "       ...,\n",
              "       [0, 0, 0, ..., 3, 0, 0],\n",
              "       [0, 0, 0, ..., 0, 3, 0],\n",
              "       [0, 0, 0, ..., 0, 0, 3]], dtype=uint64)"
            ]
          },
          "metadata": {
            "tags": []
          },
          "execution_count": 46
        }
      ]
    },
    {
      "cell_type": "code",
      "metadata": {
        "id": "v2QTucI-e4Mo",
        "colab_type": "code",
        "colab": {
          "base_uri": "https://localhost:8080/",
          "height": 119
        },
        "outputId": "560bd487-440c-4703-afc3-e867f4fae867"
      },
      "source": [
        "K_sum=np.sum(Y,axis=1)\n",
        "K=np.diag(K_sum)\n",
        "K"
      ],
      "execution_count": 47,
      "outputs": [
        {
          "output_type": "execute_result",
          "data": {
            "text/plain": [
              "array([[1., 0., 0., 0., 0., 0.],\n",
              "       [0., 1., 0., 0., 0., 0.],\n",
              "       [0., 0., 1., 0., 0., 0.],\n",
              "       [0., 0., 0., 1., 0., 0.],\n",
              "       [0., 0., 0., 0., 1., 0.],\n",
              "       [0., 0., 0., 0., 0., 1.]])"
            ]
          },
          "metadata": {
            "tags": []
          },
          "execution_count": 47
        }
      ]
    },
    {
      "cell_type": "code",
      "metadata": {
        "id": "VvjID0agaJn9",
        "colab_type": "code",
        "colab": {}
      },
      "source": [
        "Ut_old=np.zeros(shape=U.shape)\n",
        "alpha=0.20\n",
        "Ut=U\n",
        "while LA.norm((Ut-Ut_old),ord=2)>threshold:\n",
        "  Ut_old=Ut\n",
        "  Q=np.matmul((np.linalg.inv(Dv+alpha*K)),((np.matmul(np.transpose(A),Ut))+(alpha*np.matmul(K,Y))))\n",
        "  t=np.matmul(A,Q)\n",
        "  Ut=np.matmul(np.linalg.inv(Dn),t)\n",
        "Ut.shape  "
      ],
      "execution_count": 0,
      "outputs": []
    },
    {
      "cell_type": "code",
      "metadata": {
        "id": "gr_ljW5odARj",
        "colab_type": "code",
        "colab": {
          "base_uri": "https://localhost:8080/",
          "height": 1000
        },
        "outputId": "647f5471-f5c8-4eff-93ba-6e550b127570"
      },
      "source": [
        "Ut"
      ],
      "execution_count": 23,
      "outputs": [
        {
          "output_type": "execute_result",
          "data": {
            "text/plain": [
              "array([[0.66517131, 0.33482869],\n",
              "       [0.66609604, 0.33390396],\n",
              "       [0.66609604, 0.33390396],\n",
              "       [0.66609604, 0.33390396],\n",
              "       [0.66517131, 0.33482869],\n",
              "       [0.66609604, 0.33390396],\n",
              "       [0.66609604, 0.33390396],\n",
              "       [0.66609604, 0.33390396],\n",
              "       [0.66723729, 0.33276271],\n",
              "       [0.66739081, 0.33260919],\n",
              "       [0.66609604, 0.33390396],\n",
              "       [0.66609604, 0.33390396],\n",
              "       [0.66609604, 0.33390396],\n",
              "       [0.66609604, 0.33390396],\n",
              "       [0.66594252, 0.33405748],\n",
              "       [0.66609604, 0.33390396],\n",
              "       [0.66609604, 0.33390396],\n",
              "       [0.66723729, 0.33276271],\n",
              "       [0.66594252, 0.33405748],\n",
              "       [0.66609604, 0.33390396],\n",
              "       [0.66609604, 0.33390396],\n",
              "       [0.66609604, 0.33390396],\n",
              "       [0.66594252, 0.33405748],\n",
              "       [0.66609604, 0.33390396],\n",
              "       [0.66609604, 0.33390396],\n",
              "       [0.66517131, 0.33482869],\n",
              "       [0.66609604, 0.33390396],\n",
              "       [0.66609604, 0.33390396],\n",
              "       [0.66609604, 0.33390396],\n",
              "       [0.66594252, 0.33405748],\n",
              "       [0.66609604, 0.33390396],\n",
              "       [0.66609604, 0.33390396],\n",
              "       [0.66723729, 0.33276271],\n",
              "       [0.66594252, 0.33405748],\n",
              "       [0.66646608, 0.33353392],\n",
              "       [0.66609604, 0.33390396],\n",
              "       [0.66723729, 0.33276271],\n",
              "       [0.66609604, 0.33390396],\n",
              "       [0.66609604, 0.33390396],\n",
              "       [0.66594252, 0.33405748],\n",
              "       [0.66517131, 0.33482869],\n",
              "       [0.66609604, 0.33390396],\n",
              "       [0.66594252, 0.33405748],\n",
              "       [0.66609604, 0.33390396],\n",
              "       [0.66609604, 0.33390396],\n",
              "       [0.66609604, 0.33390396],\n",
              "       [0.66609604, 0.33390396],\n",
              "       [0.66609604, 0.33390396],\n",
              "       [0.66609604, 0.33390396],\n",
              "       [0.66609604, 0.33390396],\n",
              "       [0.66816202, 0.33183798],\n",
              "       [0.66739081, 0.33260919],\n",
              "       [0.66609604, 0.33390396],\n",
              "       [0.66723729, 0.33276271],\n",
              "       [0.66609604, 0.33390396],\n",
              "       [0.66609604, 0.33390396],\n",
              "       [0.66594252, 0.33405748],\n",
              "       [0.66594252, 0.33405748],\n",
              "       [0.66609604, 0.33390396],\n",
              "       [0.66594252, 0.33405748],\n",
              "       [0.66723729, 0.33276271],\n",
              "       [0.66594252, 0.33405748],\n",
              "       [0.66594252, 0.33405748],\n",
              "       [0.66609604, 0.33390396],\n",
              "       [0.66594252, 0.33405748],\n",
              "       [0.66594252, 0.33405748],\n",
              "       [0.66594252, 0.33405748],\n",
              "       [0.66609604, 0.33390396],\n",
              "       [0.66609604, 0.33390396],\n",
              "       [0.66609604, 0.33390396],\n",
              "       [0.66609604, 0.33390396],\n",
              "       [0.66739081, 0.33260919],\n",
              "       [0.66739081, 0.33260919],\n",
              "       [0.66594252, 0.33405748],\n",
              "       [0.66609604, 0.33390396],\n",
              "       [0.66609604, 0.33390396],\n",
              "       [0.66609604, 0.33390396],\n",
              "       [0.66739081, 0.33260919],\n",
              "       [0.66594252, 0.33405748],\n",
              "       [0.66594252, 0.33405748],\n",
              "       [0.66609604, 0.33390396],\n",
              "       [0.66609604, 0.33390396],\n",
              "       [0.66609604, 0.33390396],\n",
              "       [0.66609604, 0.33390396],\n",
              "       [0.66609604, 0.33390396],\n",
              "       [0.66609604, 0.33390396],\n",
              "       [0.66609604, 0.33390396],\n",
              "       [0.66723729, 0.33276271],\n",
              "       [0.66594252, 0.33405748],\n",
              "       [0.66609604, 0.33390396],\n",
              "       [0.66609604, 0.33390396],\n",
              "       [0.66723729, 0.33276271],\n",
              "       [0.66594252, 0.33405748],\n",
              "       [0.66609604, 0.33390396],\n",
              "       [0.66594252, 0.33405748],\n",
              "       [0.66609604, 0.33390396],\n",
              "       [0.66739081, 0.33260919],\n",
              "       [0.66609604, 0.33390396],\n",
              "       [0.66594252, 0.33405748],\n",
              "       [0.66609604, 0.33390396],\n",
              "       [0.66609604, 0.33390396],\n",
              "       [0.66609604, 0.33390396],\n",
              "       [0.66609604, 0.33390396],\n",
              "       [0.66594252, 0.33405748],\n",
              "       [0.66609604, 0.33390396],\n",
              "       [0.66609604, 0.33390396],\n",
              "       [0.66594252, 0.33405748],\n",
              "       [0.66594252, 0.33405748],\n",
              "       [0.66609604, 0.33390396],\n",
              "       [0.66723729, 0.33276271],\n",
              "       [0.66739081, 0.33260919],\n",
              "       [0.66517131, 0.33482869],\n",
              "       [0.66609604, 0.33390396],\n",
              "       [0.66594252, 0.33405748],\n",
              "       [0.66594252, 0.33405748],\n",
              "       [0.66609604, 0.33390396],\n",
              "       [0.66594252, 0.33405748],\n",
              "       [0.66609604, 0.33390396],\n",
              "       [0.66609604, 0.33390396],\n",
              "       [0.66594252, 0.33405748],\n",
              "       [0.66609604, 0.33390396],\n",
              "       [0.66739081, 0.33260919],\n",
              "       [0.66594252, 0.33405748],\n",
              "       [0.66609604, 0.33390396],\n",
              "       [0.66594252, 0.33405748],\n",
              "       [0.66609604, 0.33390396],\n",
              "       [0.66609604, 0.33390396],\n",
              "       [0.66609604, 0.33390396],\n",
              "       [0.66517131, 0.33482869],\n",
              "       [0.66609604, 0.33390396],\n",
              "       [0.66609604, 0.33390396],\n",
              "       [0.66594252, 0.33405748],\n",
              "       [0.66517131, 0.33482869],\n",
              "       [0.66609604, 0.33390396],\n",
              "       [0.66609604, 0.33390396],\n",
              "       [0.66594252, 0.33405748],\n",
              "       [0.66594252, 0.33405748],\n",
              "       [0.66609604, 0.33390396],\n",
              "       [0.66594252, 0.33405748],\n",
              "       [0.66517131, 0.33482869],\n",
              "       [0.66609604, 0.33390396],\n",
              "       [0.66609604, 0.33390396],\n",
              "       [0.66517131, 0.33482869],\n",
              "       [0.66609604, 0.33390396],\n",
              "       [0.66609604, 0.33390396],\n",
              "       [0.66609604, 0.33390396],\n",
              "       [0.66609604, 0.33390396],\n",
              "       [0.66609604, 0.33390396],\n",
              "       [0.66594252, 0.33405748],\n",
              "       [0.66609604, 0.33390396],\n",
              "       [0.66609604, 0.33390396],\n",
              "       [0.66609604, 0.33390396],\n",
              "       [0.66739081, 0.33260919],\n",
              "       [0.66609604, 0.33390396],\n",
              "       [0.66594252, 0.33405748],\n",
              "       [0.66609604, 0.33390396],\n",
              "       [0.66609604, 0.33390396],\n",
              "       [0.66594252, 0.33405748],\n",
              "       [0.66594252, 0.33405748],\n",
              "       [0.66609604, 0.33390396],\n",
              "       [0.66686725, 0.33313275],\n",
              "       [0.66609604, 0.33390396],\n",
              "       [0.66594252, 0.33405748],\n",
              "       [0.66609604, 0.33390396],\n",
              "       [0.66609604, 0.33390396],\n",
              "       [0.66609604, 0.33390396],\n",
              "       [0.66594252, 0.33405748],\n",
              "       [0.66594252, 0.33405748],\n",
              "       [0.66739081, 0.33260919],\n",
              "       [0.66609604, 0.33390396],\n",
              "       [0.66609604, 0.33390396],\n",
              "       [0.66609604, 0.33390396],\n",
              "       [0.66594252, 0.33405748],\n",
              "       [0.66594252, 0.33405748],\n",
              "       [0.66594252, 0.33405748],\n",
              "       [0.66594252, 0.33405748],\n",
              "       [0.66609604, 0.33390396],\n",
              "       [0.66594252, 0.33405748],\n",
              "       [0.66723729, 0.33276271]])"
            ]
          },
          "metadata": {
            "tags": []
          },
          "execution_count": 23
        }
      ]
    },
    {
      "cell_type": "code",
      "metadata": {
        "id": "GexmtYehhwoE",
        "colab_type": "code",
        "colab": {}
      },
      "source": [
        "from sklearn.metrics import accuracy_score\n",
        "result=np.zeros(shape=Ut.shape[0])\n",
        "for i in range(Ut.shape[0]):\n",
        "  if Ut[i][0]<Ut[i][1]:\n",
        "    result[i]=1"
      ],
      "execution_count": 0,
      "outputs": []
    },
    {
      "cell_type": "code",
      "metadata": {
        "id": "ZmJI1erFh1sX",
        "colab_type": "code",
        "colab": {
          "base_uri": "https://localhost:8080/",
          "height": 34
        },
        "outputId": "cf1d6663-be79-4c96-aa3e-fd4b1c7ae626"
      },
      "source": [
        "roc_auc_score(y_val,result)"
      ],
      "execution_count": 67,
      "outputs": [
        {
          "output_type": "execute_result",
          "data": {
            "text/plain": [
              "0.495"
            ]
          },
          "metadata": {
            "tags": []
          },
          "execution_count": 67
        }
      ]
    },
    {
      "cell_type": "code",
      "metadata": {
        "id": "6WlPsOuYkFN3",
        "colab_type": "code",
        "colab": {}
      },
      "source": [
        ""
      ],
      "execution_count": 0,
      "outputs": []
    }
  ]
}