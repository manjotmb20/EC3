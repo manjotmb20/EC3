{
  "nbformat": 4,
  "nbformat_minor": 0,
  "metadata": {
    "colab": {
      "name": "Untitled143.ipynb",
      "provenance": [],
      "collapsed_sections": [],
      "include_colab_link": true
    },
    "kernelspec": {
      "name": "python3",
      "display_name": "Python 3"
    }
  },
  "cells": [
    {
      "cell_type": "markdown",
      "metadata": {
        "id": "view-in-github",
        "colab_type": "text"
      },
      "source": [
        "<a href=\"https://colab.research.google.com/github/manjotmb20/EC3/blob/master/ModelwithFo.ipynb\" target=\"_parent\"><img src=\"https://colab.research.google.com/assets/colab-badge.svg\" alt=\"Open In Colab\"/></a>"
      ]
    },
    {
      "cell_type": "code",
      "metadata": {
        "id": "2DUW-Ldrt-ft",
        "colab_type": "code",
        "colab": {}
      },
      "source": [
        "import numpy as np\n",
        "import matplotlib.pyplot as plt\n",
        "import pandas as pd\n",
        "import seaborn as sns\n",
        "from sklearn.preprocessing import LabelEncoder\n",
        "from sklearn.preprocessing import StandardScaler\n",
        "from sklearn.preprocessing import OneHotEncoder\n",
        "from numpy import linalg as LA\n"
      ],
      "execution_count": 0,
      "outputs": []
    },
    {
      "cell_type": "markdown",
      "metadata": {
        "id": "LFApVytKZ09r",
        "colab_type": "text"
      },
      "source": [
        "**Preprocessing of the titanic dataset**"
      ]
    },
    {
      "cell_type": "code",
      "metadata": {
        "id": "bOJLcdXUDGkZ",
        "colab_type": "code",
        "colab": {}
      },
      "source": [
        "df_train = pd.read_csv('train.csv')\n",
        "df_train[['Pclass', 'Survived']].groupby(['Pclass'], as_index=False).mean().sort_values(by='Survived', ascending=False)\n",
        "df_train[['Sex', 'Survived']].groupby(['Sex'], as_index=False).mean().sort_values(by='Survived', ascending=False)\n",
        "df_train[['SibSp', 'Survived']].groupby(['SibSp'], as_index=False).mean().sort_values(by='Survived', ascending=False)\n",
        "df_train[['Parch', 'Survived']].groupby(['Parch'], as_index=False).mean().sort_values(by='Survived', ascending=False)\n",
        "df_train = df_train.drop(['Ticket', 'Cabin'], axis=1)\n",
        "combine = [df_train]\n",
        "for dataset in combine:\n",
        "    dataset['Title'] = dataset.Name.str.extract('([A-Za-z]+)\\.', expand=False)\n",
        "pd.crosstab(df_train['Title'], df_train['Sex'])\n",
        "for dataset in combine:\n",
        "    dataset['Title'] = dataset['Title'].replace('Mlle', 'Miss')\n",
        "    dataset['Title'] = dataset['Title'].replace('Ms', 'Miss')\n",
        "    dataset['Title'] = dataset['Title'].replace('Mme', 'Mrs')\n",
        "    dataset['Title'] = dataset['Title'].replace(['Lady', 'Countess','Don', 'Sir', 'Jonkheer', 'Dona'],'Royalty')\n",
        "    dataset['Title'] = dataset['Title'].replace(['Capt', 'Col','Dr','Major','Rev'],'Special')\n",
        "df_train[['Title','Survived']].groupby(['Title'], as_index=False).mean()\n",
        "title_mapping = {\"Master\": 1, \"Miss\": 2, \"Mrs\": 3, \"Mr\": 4, \"Royalty\": 5, \"Special\": 6}\n",
        "for dataset in combine:\n",
        "    dataset['Title'] = dataset['Title'].map(title_mapping)\n",
        "    dataset['Title'] = dataset['Title'].fillna(0)\n",
        "df_train = df_train.drop(['Name', 'PassengerId'], axis=1)\n",
        "combine = [df_train]\n",
        "for dataset in combine:\n",
        "    dataset['Sex'] = dataset['Sex'].map( {'female': 1, 'male': 0} ).astype(int)\n",
        "median_age = np.zeros((2,3))\n",
        "for dataset in combine:\n",
        "    for sex in range(0,2):\n",
        "        for pclass in range(0,3):\n",
        "            guess_df = dataset[(dataset['Sex'] == sex) & \\\n",
        "                                  (dataset['Pclass'] == pclass+1)]['Age'].dropna()\n",
        "            age_guess = guess_df.median()\n",
        "            median_age[sex,pclass] = age_guess\n",
        "\n",
        "for dataset in combine:\n",
        "    for i in range(0, 2):\n",
        "        for j in range(0, 3):\n",
        "            dataset.loc[ (dataset.Age.isnull()) & (dataset.Sex == i) & (dataset.Pclass == j+1),\\\n",
        "                    'Age'] = median_age[i,j]\n",
        "\n",
        "dataset['Age'] = dataset['Age'].astype(int)\n",
        "df_train['AgeBand'] = pd.cut(df_train['Age'], 5)\n",
        "df_train[['AgeBand', 'Survived']].groupby(['AgeBand'], as_index=False).mean().sort_values(by='AgeBand', ascending=True)\n",
        "for dataset in combine:\n",
        "    dataset.loc[ dataset['Age'] <= 16, 'AgeG'] = 0\n",
        "    dataset.loc[(dataset['Age'] > 16) & (dataset['Age'] <= 32), 'AgeG'] = 1\n",
        "    dataset.loc[(dataset['Age'] > 32) & (dataset['Age'] <= 48), 'AgeG'] = 2\n",
        "    dataset.loc[(dataset['Age'] > 48) & (dataset['Age'] <= 64), 'AgeG'] = 3\n",
        "    dataset.loc[ dataset['Age'] > 64, 'AgeG'] = 4\n",
        "df_train = df_train.drop(['AgeBand','Age'], axis=1)\n",
        "combine = [df_train]\n",
        "for dataset in combine:\n",
        "    dataset['FamilySize'] = dataset['SibSp'] + dataset['Parch'] + 1\n",
        "\n",
        "df_train[['FamilySize','Survived']].groupby(['FamilySize'], as_index=False).mean().sort_values(by='Survived', ascending=False) \n",
        "df_train = df_train.drop(['SibSp', 'Parch'], axis=1)\n",
        "combine = [df_train]\n",
        "freq_port = df_train.Embarked.dropna().mode()[0]\n",
        "for dataset in combine:\n",
        "    dataset['Embarked'] = dataset['Embarked'].fillna(freq_port)\n",
        "df_train[['Embarked','Survived']].groupby(['Embarked'], as_index = False).mean().sort_values(by='Survived', ascending=False)\n",
        "for dataset in combine:\n",
        "    dataset['Embarked'] = dataset['Embarked'].map( {'S': 0, 'C': 1, 'Q': 2} ).astype(int)\n",
        "df_train = df_train.drop(['Fare'], axis=1)\n",
        "combine = [df_train]\n",
        "for dataset in combine:\n",
        "    dataset.AgeG = dataset.AgeG.astype(int)\n",
        "X_train = df_train.drop(\"Survived\", axis=1)\n",
        "Y_train = df_train['Survived']           "
      ],
      "execution_count": 0,
      "outputs": []
    },
    {
      "cell_type": "code",
      "metadata": {
        "id": "42yT1C_jIxsW",
        "colab_type": "code",
        "outputId": "6c9b0409-ca89-4a03-d8ad-a5d6f2a64898",
        "colab": {
          "base_uri": "https://localhost:8080/",
          "height": 419
        }
      },
      "source": [
        "X_train"
      ],
      "execution_count": 3,
      "outputs": [
        {
          "output_type": "execute_result",
          "data": {
            "text/html": [
              "<div>\n",
              "<style scoped>\n",
              "    .dataframe tbody tr th:only-of-type {\n",
              "        vertical-align: middle;\n",
              "    }\n",
              "\n",
              "    .dataframe tbody tr th {\n",
              "        vertical-align: top;\n",
              "    }\n",
              "\n",
              "    .dataframe thead th {\n",
              "        text-align: right;\n",
              "    }\n",
              "</style>\n",
              "<table border=\"1\" class=\"dataframe\">\n",
              "  <thead>\n",
              "    <tr style=\"text-align: right;\">\n",
              "      <th></th>\n",
              "      <th>Pclass</th>\n",
              "      <th>Sex</th>\n",
              "      <th>Embarked</th>\n",
              "      <th>Title</th>\n",
              "      <th>AgeG</th>\n",
              "      <th>FamilySize</th>\n",
              "    </tr>\n",
              "  </thead>\n",
              "  <tbody>\n",
              "    <tr>\n",
              "      <th>0</th>\n",
              "      <td>3</td>\n",
              "      <td>0</td>\n",
              "      <td>0</td>\n",
              "      <td>4</td>\n",
              "      <td>1</td>\n",
              "      <td>2</td>\n",
              "    </tr>\n",
              "    <tr>\n",
              "      <th>1</th>\n",
              "      <td>1</td>\n",
              "      <td>1</td>\n",
              "      <td>1</td>\n",
              "      <td>3</td>\n",
              "      <td>2</td>\n",
              "      <td>2</td>\n",
              "    </tr>\n",
              "    <tr>\n",
              "      <th>2</th>\n",
              "      <td>3</td>\n",
              "      <td>1</td>\n",
              "      <td>0</td>\n",
              "      <td>2</td>\n",
              "      <td>1</td>\n",
              "      <td>1</td>\n",
              "    </tr>\n",
              "    <tr>\n",
              "      <th>3</th>\n",
              "      <td>1</td>\n",
              "      <td>1</td>\n",
              "      <td>0</td>\n",
              "      <td>3</td>\n",
              "      <td>2</td>\n",
              "      <td>2</td>\n",
              "    </tr>\n",
              "    <tr>\n",
              "      <th>4</th>\n",
              "      <td>3</td>\n",
              "      <td>0</td>\n",
              "      <td>0</td>\n",
              "      <td>4</td>\n",
              "      <td>2</td>\n",
              "      <td>1</td>\n",
              "    </tr>\n",
              "    <tr>\n",
              "      <th>...</th>\n",
              "      <td>...</td>\n",
              "      <td>...</td>\n",
              "      <td>...</td>\n",
              "      <td>...</td>\n",
              "      <td>...</td>\n",
              "      <td>...</td>\n",
              "    </tr>\n",
              "    <tr>\n",
              "      <th>886</th>\n",
              "      <td>2</td>\n",
              "      <td>0</td>\n",
              "      <td>0</td>\n",
              "      <td>6</td>\n",
              "      <td>1</td>\n",
              "      <td>1</td>\n",
              "    </tr>\n",
              "    <tr>\n",
              "      <th>887</th>\n",
              "      <td>1</td>\n",
              "      <td>1</td>\n",
              "      <td>0</td>\n",
              "      <td>2</td>\n",
              "      <td>1</td>\n",
              "      <td>1</td>\n",
              "    </tr>\n",
              "    <tr>\n",
              "      <th>888</th>\n",
              "      <td>3</td>\n",
              "      <td>1</td>\n",
              "      <td>0</td>\n",
              "      <td>2</td>\n",
              "      <td>1</td>\n",
              "      <td>4</td>\n",
              "    </tr>\n",
              "    <tr>\n",
              "      <th>889</th>\n",
              "      <td>1</td>\n",
              "      <td>0</td>\n",
              "      <td>1</td>\n",
              "      <td>4</td>\n",
              "      <td>1</td>\n",
              "      <td>1</td>\n",
              "    </tr>\n",
              "    <tr>\n",
              "      <th>890</th>\n",
              "      <td>3</td>\n",
              "      <td>0</td>\n",
              "      <td>2</td>\n",
              "      <td>4</td>\n",
              "      <td>1</td>\n",
              "      <td>1</td>\n",
              "    </tr>\n",
              "  </tbody>\n",
              "</table>\n",
              "<p>891 rows × 6 columns</p>\n",
              "</div>"
            ],
            "text/plain": [
              "     Pclass  Sex  Embarked  Title  AgeG  FamilySize\n",
              "0         3    0         0      4     1           2\n",
              "1         1    1         1      3     2           2\n",
              "2         3    1         0      2     1           1\n",
              "3         1    1         0      3     2           2\n",
              "4         3    0         0      4     2           1\n",
              "..      ...  ...       ...    ...   ...         ...\n",
              "886       2    0         0      6     1           1\n",
              "887       1    1         0      2     1           1\n",
              "888       3    1         0      2     1           4\n",
              "889       1    0         1      4     1           1\n",
              "890       3    0         2      4     1           1\n",
              "\n",
              "[891 rows x 6 columns]"
            ]
          },
          "metadata": {
            "tags": []
          },
          "execution_count": 3
        }
      ]
    },
    {
      "cell_type": "markdown",
      "metadata": {
        "id": "qUFzvAcTZ6IL",
        "colab_type": "text"
      },
      "source": [
        "**We create different models, we take in to account the ensemble of Support vector classifiers and Logistic Regression. **"
      ]
    },
    {
      "cell_type": "code",
      "metadata": {
        "id": "WYk6rVh4ur-w",
        "colab_type": "code",
        "outputId": "f0f836e2-4448-4fe4-989a-519b356bc612",
        "colab": {
          "base_uri": "https://localhost:8080/",
          "height": 156
        }
      },
      "source": [
        "from sklearn.linear_model import LogisticRegression\n",
        "from sklearn.model_selection import train_test_split\n",
        "from sklearn.tree import DecisionTreeClassifier\n",
        "from sklearn.svm import SVC\n",
        "classifier3=SVC(probability=True)\n",
        "from sklearn.metrics import roc_auc_score,accuracy_score\n",
        "x_train,x_val,y_train,y_val=train_test_split(X_train,Y_train,test_size=0.2,random_state=9)\n",
        "classifier=LogisticRegression(random_state=0)\n",
        "classifier.fit(x_train,y_train)\n",
        "ypred=classifier.predict(x_val)\n",
        "print(\"Accuracy score of LR\",accuracy_score(y_val,ypred))\n",
        "y_prob=classifier.predict_proba(x_val)\n",
        "df=pd.DataFrame()\n",
        "df['pred']=ypred\n",
        "survived=pd.get_dummies(df.pred,prefix='Survived')\n",
        "df=pd.concat([df,survived],axis=1)\n",
        "df.drop('pred',inplace=True,axis=1)\n",
        "df2=pd.DataFrame()\n",
        "classifier3.fit(x_train,y_train)\n",
        "ypred3=classifier3.predict(x_val)\n",
        "print(\"Accuracy score of SVM\",accuracy_score(y_val,ypred3))\n",
        "df2['pred']=ypred3\n",
        "y_prob3=classifier3.predict_proba(x_val)\n",
        "survived2=pd.get_dummies(df2.pred,prefix='Surviveds')\n",
        "df=pd.concat([df,survived2],axis=1)\n",
        "'''from sklearn.cluster import KMeans\n",
        "kmeans = KMeans(n_clusters=2,init='k-means++')\n",
        "kmeans.fit(x_train,y_train)\n",
        "k_pred=kmeans.predict(x_val)\n",
        "accuracy_score(y_val,k_pred)\n",
        "df_kmeans=pd.DataFrame()\n",
        "df_kmeans['Survived_k']=k_pred\n",
        "survivedk=pd.get_dummies(df_kmeans.Survived_k,prefix='Survivedk')\n",
        "df['Survivedk_0']=survivedk['Survivedk_0']\n",
        "df['Survivedk_1']=survivedk['Survivedk_1']\n",
        "print(\"Accuracy score of Kmeans\",accuracy_score(y_val,k_pred))'''"
      ],
      "execution_count": 4,
      "outputs": [
        {
          "output_type": "stream",
          "text": [
            "Accuracy score of LR 0.776536312849162\n",
            "Accuracy score of SVM 0.776536312849162\n"
          ],
          "name": "stdout"
        },
        {
          "output_type": "stream",
          "text": [
            "/usr/local/lib/python3.6/dist-packages/sklearn/linear_model/logistic.py:432: FutureWarning: Default solver will be changed to 'lbfgs' in 0.22. Specify a solver to silence this warning.\n",
            "  FutureWarning)\n",
            "/usr/local/lib/python3.6/dist-packages/sklearn/svm/base.py:193: FutureWarning: The default value of gamma will change from 'auto' to 'scale' in version 0.22 to account better for unscaled features. Set gamma explicitly to 'auto' or 'scale' to avoid this warning.\n",
            "  \"avoid this warning.\", FutureWarning)\n"
          ],
          "name": "stderr"
        },
        {
          "output_type": "execute_result",
          "data": {
            "text/plain": [
              "'from sklearn.cluster import KMeans\\nkmeans = KMeans(n_clusters=2,init=\\'k-means++\\')\\nkmeans.fit(x_train,y_train)\\nk_pred=kmeans.predict(x_val)\\naccuracy_score(y_val,k_pred)\\ndf_kmeans=pd.DataFrame()\\ndf_kmeans[\\'Survived_k\\']=k_pred\\nsurvivedk=pd.get_dummies(df_kmeans.Survived_k,prefix=\\'Survivedk\\')\\ndf[\\'Survivedk_0\\']=survivedk[\\'Survivedk_0\\']\\ndf[\\'Survivedk_1\\']=survivedk[\\'Survivedk_1\\']\\nprint(\"Accuracy score of Kmeans\",accuracy_score(y_val,k_pred))'"
            ]
          },
          "metadata": {
            "tags": []
          },
          "execution_count": 4
        }
      ]
    },
    {
      "cell_type": "code",
      "metadata": {
        "id": "nRB1np3xabS5",
        "colab_type": "code",
        "outputId": "067381e4-658f-4c0d-877b-587abcca06cf",
        "colab": {
          "base_uri": "https://localhost:8080/",
          "height": 419
        }
      },
      "source": [
        "df"
      ],
      "execution_count": 5,
      "outputs": [
        {
          "output_type": "execute_result",
          "data": {
            "text/html": [
              "<div>\n",
              "<style scoped>\n",
              "    .dataframe tbody tr th:only-of-type {\n",
              "        vertical-align: middle;\n",
              "    }\n",
              "\n",
              "    .dataframe tbody tr th {\n",
              "        vertical-align: top;\n",
              "    }\n",
              "\n",
              "    .dataframe thead th {\n",
              "        text-align: right;\n",
              "    }\n",
              "</style>\n",
              "<table border=\"1\" class=\"dataframe\">\n",
              "  <thead>\n",
              "    <tr style=\"text-align: right;\">\n",
              "      <th></th>\n",
              "      <th>Survived_0</th>\n",
              "      <th>Survived_1</th>\n",
              "      <th>Surviveds_0</th>\n",
              "      <th>Surviveds_1</th>\n",
              "    </tr>\n",
              "  </thead>\n",
              "  <tbody>\n",
              "    <tr>\n",
              "      <th>0</th>\n",
              "      <td>1</td>\n",
              "      <td>0</td>\n",
              "      <td>0</td>\n",
              "      <td>1</td>\n",
              "    </tr>\n",
              "    <tr>\n",
              "      <th>1</th>\n",
              "      <td>1</td>\n",
              "      <td>0</td>\n",
              "      <td>1</td>\n",
              "      <td>0</td>\n",
              "    </tr>\n",
              "    <tr>\n",
              "      <th>2</th>\n",
              "      <td>1</td>\n",
              "      <td>0</td>\n",
              "      <td>1</td>\n",
              "      <td>0</td>\n",
              "    </tr>\n",
              "    <tr>\n",
              "      <th>3</th>\n",
              "      <td>1</td>\n",
              "      <td>0</td>\n",
              "      <td>1</td>\n",
              "      <td>0</td>\n",
              "    </tr>\n",
              "    <tr>\n",
              "      <th>4</th>\n",
              "      <td>0</td>\n",
              "      <td>1</td>\n",
              "      <td>0</td>\n",
              "      <td>1</td>\n",
              "    </tr>\n",
              "    <tr>\n",
              "      <th>...</th>\n",
              "      <td>...</td>\n",
              "      <td>...</td>\n",
              "      <td>...</td>\n",
              "      <td>...</td>\n",
              "    </tr>\n",
              "    <tr>\n",
              "      <th>174</th>\n",
              "      <td>0</td>\n",
              "      <td>1</td>\n",
              "      <td>0</td>\n",
              "      <td>1</td>\n",
              "    </tr>\n",
              "    <tr>\n",
              "      <th>175</th>\n",
              "      <td>0</td>\n",
              "      <td>1</td>\n",
              "      <td>0</td>\n",
              "      <td>1</td>\n",
              "    </tr>\n",
              "    <tr>\n",
              "      <th>176</th>\n",
              "      <td>1</td>\n",
              "      <td>0</td>\n",
              "      <td>1</td>\n",
              "      <td>0</td>\n",
              "    </tr>\n",
              "    <tr>\n",
              "      <th>177</th>\n",
              "      <td>0</td>\n",
              "      <td>1</td>\n",
              "      <td>0</td>\n",
              "      <td>1</td>\n",
              "    </tr>\n",
              "    <tr>\n",
              "      <th>178</th>\n",
              "      <td>0</td>\n",
              "      <td>1</td>\n",
              "      <td>0</td>\n",
              "      <td>1</td>\n",
              "    </tr>\n",
              "  </tbody>\n",
              "</table>\n",
              "<p>179 rows × 4 columns</p>\n",
              "</div>"
            ],
            "text/plain": [
              "     Survived_0  Survived_1  Surviveds_0  Surviveds_1\n",
              "0             1           0            0            1\n",
              "1             1           0            1            0\n",
              "2             1           0            1            0\n",
              "3             1           0            1            0\n",
              "4             0           1            0            1\n",
              "..          ...         ...          ...          ...\n",
              "174           0           1            0            1\n",
              "175           0           1            0            1\n",
              "176           1           0            1            0\n",
              "177           0           1            0            1\n",
              "178           0           1            0            1\n",
              "\n",
              "[179 rows x 4 columns]"
            ]
          },
          "metadata": {
            "tags": []
          },
          "execution_count": 5
        }
      ]
    },
    {
      "cell_type": "markdown",
      "metadata": {
        "id": "bz2UmAK_YMfw",
        "colab_type": "text"
      },
      "source": [
        "**Implementing Random Forest for comparing the ensemble model with the Random Forest model**"
      ]
    },
    {
      "cell_type": "code",
      "metadata": {
        "id": "Q5KNAxvKLskV",
        "colab_type": "code",
        "outputId": "e8a2bae3-e2f2-4874-c05a-7cdbaf70b370",
        "colab": {
          "base_uri": "https://localhost:8080/",
          "height": 88
        }
      },
      "source": [
        "from sklearn.ensemble import RandomForestClassifier\n",
        "forest = RandomForestClassifier()\n",
        "forest.fit(x_train, y_train)\n",
        "Y_pred = forest.predict(x_val)\n",
        "print(\"Accuracy score of Random Forest\",accuracy_score(y_val,Y_pred))"
      ],
      "execution_count": 6,
      "outputs": [
        {
          "output_type": "stream",
          "text": [
            "Accuracy score of Random Forest 0.7486033519553073\n"
          ],
          "name": "stdout"
        },
        {
          "output_type": "stream",
          "text": [
            "/usr/local/lib/python3.6/dist-packages/sklearn/ensemble/forest.py:245: FutureWarning: The default value of n_estimators will change from 10 in version 0.20 to 100 in 0.22.\n",
            "  \"10 in version 0.20 to 100 in 0.22.\", FutureWarning)\n"
          ],
          "name": "stderr"
        }
      ]
    },
    {
      "cell_type": "code",
      "metadata": {
        "id": "Qr7DkMWaUYeD",
        "colab_type": "code",
        "outputId": "dd2d6b65-efd5-4dfa-e070-5864eb31aefc",
        "colab": {
          "base_uri": "https://localhost:8080/",
          "height": 34
        }
      },
      "source": [
        "from sklearn.neighbors import KNeighborsClassifier\n",
        "knn = KNeighborsClassifier()\n",
        "knn.fit(x_train, y_train)\n",
        "Y_pred2 = knn.predict(x_val)\n",
        "print(\"Accuracy score of Kneighbors\",accuracy_score(y_val,Y_pred2))"
      ],
      "execution_count": 7,
      "outputs": [
        {
          "output_type": "stream",
          "text": [
            "Accuracy score of Kneighbors 0.7541899441340782\n"
          ],
          "name": "stdout"
        }
      ]
    },
    {
      "cell_type": "markdown",
      "metadata": {
        "id": "q14_hD5TYfgk",
        "colab_type": "text"
      },
      "source": [
        "**Same, comparing with the Kneareast neighbours algorithm**"
      ]
    },
    {
      "cell_type": "code",
      "metadata": {
        "id": "gnbnS6SPv2P_",
        "colab_type": "code",
        "outputId": "21d87f69-770d-4481-c963-be3a94ea0869",
        "colab": {
          "base_uri": "https://localhost:8080/",
          "height": 419
        }
      },
      "source": [
        "df"
      ],
      "execution_count": 8,
      "outputs": [
        {
          "output_type": "execute_result",
          "data": {
            "text/html": [
              "<div>\n",
              "<style scoped>\n",
              "    .dataframe tbody tr th:only-of-type {\n",
              "        vertical-align: middle;\n",
              "    }\n",
              "\n",
              "    .dataframe tbody tr th {\n",
              "        vertical-align: top;\n",
              "    }\n",
              "\n",
              "    .dataframe thead th {\n",
              "        text-align: right;\n",
              "    }\n",
              "</style>\n",
              "<table border=\"1\" class=\"dataframe\">\n",
              "  <thead>\n",
              "    <tr style=\"text-align: right;\">\n",
              "      <th></th>\n",
              "      <th>Survived_0</th>\n",
              "      <th>Survived_1</th>\n",
              "      <th>Surviveds_0</th>\n",
              "      <th>Surviveds_1</th>\n",
              "    </tr>\n",
              "  </thead>\n",
              "  <tbody>\n",
              "    <tr>\n",
              "      <th>0</th>\n",
              "      <td>1</td>\n",
              "      <td>0</td>\n",
              "      <td>0</td>\n",
              "      <td>1</td>\n",
              "    </tr>\n",
              "    <tr>\n",
              "      <th>1</th>\n",
              "      <td>1</td>\n",
              "      <td>0</td>\n",
              "      <td>1</td>\n",
              "      <td>0</td>\n",
              "    </tr>\n",
              "    <tr>\n",
              "      <th>2</th>\n",
              "      <td>1</td>\n",
              "      <td>0</td>\n",
              "      <td>1</td>\n",
              "      <td>0</td>\n",
              "    </tr>\n",
              "    <tr>\n",
              "      <th>3</th>\n",
              "      <td>1</td>\n",
              "      <td>0</td>\n",
              "      <td>1</td>\n",
              "      <td>0</td>\n",
              "    </tr>\n",
              "    <tr>\n",
              "      <th>4</th>\n",
              "      <td>0</td>\n",
              "      <td>1</td>\n",
              "      <td>0</td>\n",
              "      <td>1</td>\n",
              "    </tr>\n",
              "    <tr>\n",
              "      <th>...</th>\n",
              "      <td>...</td>\n",
              "      <td>...</td>\n",
              "      <td>...</td>\n",
              "      <td>...</td>\n",
              "    </tr>\n",
              "    <tr>\n",
              "      <th>174</th>\n",
              "      <td>0</td>\n",
              "      <td>1</td>\n",
              "      <td>0</td>\n",
              "      <td>1</td>\n",
              "    </tr>\n",
              "    <tr>\n",
              "      <th>175</th>\n",
              "      <td>0</td>\n",
              "      <td>1</td>\n",
              "      <td>0</td>\n",
              "      <td>1</td>\n",
              "    </tr>\n",
              "    <tr>\n",
              "      <th>176</th>\n",
              "      <td>1</td>\n",
              "      <td>0</td>\n",
              "      <td>1</td>\n",
              "      <td>0</td>\n",
              "    </tr>\n",
              "    <tr>\n",
              "      <th>177</th>\n",
              "      <td>0</td>\n",
              "      <td>1</td>\n",
              "      <td>0</td>\n",
              "      <td>1</td>\n",
              "    </tr>\n",
              "    <tr>\n",
              "      <th>178</th>\n",
              "      <td>0</td>\n",
              "      <td>1</td>\n",
              "      <td>0</td>\n",
              "      <td>1</td>\n",
              "    </tr>\n",
              "  </tbody>\n",
              "</table>\n",
              "<p>179 rows × 4 columns</p>\n",
              "</div>"
            ],
            "text/plain": [
              "     Survived_0  Survived_1  Surviveds_0  Surviveds_1\n",
              "0             1           0            0            1\n",
              "1             1           0            1            0\n",
              "2             1           0            1            0\n",
              "3             1           0            1            0\n",
              "4             0           1            0            1\n",
              "..          ...         ...          ...          ...\n",
              "174           0           1            0            1\n",
              "175           0           1            0            1\n",
              "176           1           0            1            0\n",
              "177           0           1            0            1\n",
              "178           0           1            0            1\n",
              "\n",
              "[179 rows x 4 columns]"
            ]
          },
          "metadata": {
            "tags": []
          },
          "execution_count": 8
        }
      ]
    },
    {
      "cell_type": "markdown",
      "metadata": {
        "id": "MXCw8kQObWVU",
        "colab_type": "text"
      },
      "source": [
        "**Generating normalized matrices Km and Kc using the method mentioned in paper 2.**"
      ]
    },
    {
      "cell_type": "code",
      "metadata": {
        "id": "CepLLTmuv3FV",
        "colab_type": "code",
        "colab": {}
      },
      "source": [
        "m=np.array(df)\n",
        "s=np.zeros(shape=(m.shape[0],m.shape[0]))\n",
        "for i in range(m.shape[0]):\n",
        "  for j in range(m.shape[0]):\n",
        "    if i!=j:\n",
        "      sum1=0\n",
        "      for k in range(2,m.shape[1]):\n",
        "        sum1=sum1+(m[i][k]*m[j][k])\n",
        "      s[i][j]=sum1\n",
        "w=s\n",
        "d=np.zeros(shape=w.shape[0])\n",
        "for i in range(d.shape[0]):\n",
        "  d[i]=np.sum(w[i],axis=0)\n",
        "wnew=w/d.reshape(d.shape[0],1)\n",
        "Km=wnew     "
      ],
      "execution_count": 0,
      "outputs": []
    },
    {
      "cell_type": "markdown",
      "metadata": {
        "id": "ir_FOeVcboVq",
        "colab_type": "text"
      },
      "source": [
        "**Checking whether the matrices have been normalized or not i.e making them bistochastic **"
      ]
    },
    {
      "cell_type": "code",
      "metadata": {
        "id": "Ck8_a_D12H0d",
        "colab_type": "code",
        "outputId": "875f18d9-b842-480c-ca7b-728a34c08142",
        "colab": {
          "base_uri": "https://localhost:8080/",
          "height": 289
        }
      },
      "source": [
        "print(np.sum(Km,axis=1))\n",
        "print(np.sum(Km,axis=0))"
      ],
      "execution_count": 10,
      "outputs": [
        {
          "output_type": "stream",
          "text": [
            "[1. 1. 1. 1. 1. 1. 1. 1. 1. 1. 1. 1. 1. 1. 1. 1. 1. 1. 1. 1. 1. 1. 1. 1.\n",
            " 1. 1. 1. 1. 1. 1. 1. 1. 1. 1. 1. 1. 1. 1. 1. 1. 1. 1. 1. 1. 1. 1. 1. 1.\n",
            " 1. 1. 1. 1. 1. 1. 1. 1. 1. 1. 1. 1. 1. 1. 1. 1. 1. 1. 1. 1. 1. 1. 1. 1.\n",
            " 1. 1. 1. 1. 1. 1. 1. 1. 1. 1. 1. 1. 1. 1. 1. 1. 1. 1. 1. 1. 1. 1. 1. 1.\n",
            " 1. 1. 1. 1. 1. 1. 1. 1. 1. 1. 1. 1. 1. 1. 1. 1. 1. 1. 1. 1. 1. 1. 1. 1.\n",
            " 1. 1. 1. 1. 1. 1. 1. 1. 1. 1. 1. 1. 1. 1. 1. 1. 1. 1. 1. 1. 1. 1. 1. 1.\n",
            " 1. 1. 1. 1. 1. 1. 1. 1. 1. 1. 1. 1. 1. 1. 1. 1. 1. 1. 1. 1. 1. 1. 1. 1.\n",
            " 1. 1. 1. 1. 1. 1. 1. 1. 1. 1. 1.]\n",
            "[1. 1. 1. 1. 1. 1. 1. 1. 1. 1. 1. 1. 1. 1. 1. 1. 1. 1. 1. 1. 1. 1. 1. 1.\n",
            " 1. 1. 1. 1. 1. 1. 1. 1. 1. 1. 1. 1. 1. 1. 1. 1. 1. 1. 1. 1. 1. 1. 1. 1.\n",
            " 1. 1. 1. 1. 1. 1. 1. 1. 1. 1. 1. 1. 1. 1. 1. 1. 1. 1. 1. 1. 1. 1. 1. 1.\n",
            " 1. 1. 1. 1. 1. 1. 1. 1. 1. 1. 1. 1. 1. 1. 1. 1. 1. 1. 1. 1. 1. 1. 1. 1.\n",
            " 1. 1. 1. 1. 1. 1. 1. 1. 1. 1. 1. 1. 1. 1. 1. 1. 1. 1. 1. 1. 1. 1. 1. 1.\n",
            " 1. 1. 1. 1. 1. 1. 1. 1. 1. 1. 1. 1. 1. 1. 1. 1. 1. 1. 1. 1. 1. 1. 1. 1.\n",
            " 1. 1. 1. 1. 1. 1. 1. 1. 1. 1. 1. 1. 1. 1. 1. 1. 1. 1. 1. 1. 1. 1. 1. 1.\n",
            " 1. 1. 1. 1. 1. 1. 1. 1. 1. 1. 1.]\n"
          ],
          "name": "stdout"
        }
      ]
    },
    {
      "cell_type": "markdown",
      "metadata": {
        "id": "p0ZiuK9nb9Cw",
        "colab_type": "text"
      },
      "source": [
        "Similarly for Kc we generate a bistochastic matrix where m=the co-occurence matrix."
      ]
    },
    {
      "cell_type": "code",
      "metadata": {
        "id": "MHn5XuG72Ijh",
        "colab_type": "code",
        "outputId": "3ba7f4e0-9b34-430f-a7c3-376e966cf96b",
        "colab": {
          "base_uri": "https://localhost:8080/",
          "height": 238
        }
      },
      "source": [
        "m=np.array(df)\n",
        "s=np.zeros(shape=(m.shape[0],m.shape[0]))\n",
        "for i in range(m.shape[0]):\n",
        "  for j in range(m.shape[0]):\n",
        "    if i!=j:\n",
        "      sum1=0\n",
        "      for k in range(2,m.shape[1]):\n",
        "        sum1=sum1+(m[i][k]*m[j][k])\n",
        "      s[i][j]=sum1\n",
        "m=s   \n",
        "s=np.zeros(shape=(m.shape[0],m.shape[0]))\n",
        "for i in range(m.shape[0]):\n",
        "  for j in range(m.shape[0]):\n",
        "    if i!=j:\n",
        "      sum1=0\n",
        "      for k in range(2,m.shape[1]):\n",
        "        sum1=sum1+(m[i][k]*m[j][k])\n",
        "      s[i][j]=sum1   \n",
        "d=np.zeros(shape=w.shape[0])\n",
        "w=s\n",
        "for i in range(d.shape[0]):\n",
        "  d[i]=np.sum(w[i],axis=0)\n",
        "wnew=w/d.reshape(d.shape[0],1)  \n",
        "Kc=wnew\n",
        "Kc"
      ],
      "execution_count": 11,
      "outputs": [
        {
          "output_type": "execute_result",
          "data": {
            "text/plain": [
              "array([[0.        , 0.        , 0.        , ..., 0.        , 0.01515152,\n",
              "        0.01515152],\n",
              "       [0.        , 0.        , 0.00900901, ..., 0.00900901, 0.        ,\n",
              "        0.        ],\n",
              "       [0.        , 0.00909091, 0.        , ..., 0.00900826, 0.        ,\n",
              "        0.        ],\n",
              "       ...,\n",
              "       [0.        , 0.00909091, 0.00900826, ..., 0.        , 0.        ,\n",
              "        0.        ],\n",
              "       [0.01538462, 0.        , 0.        , ..., 0.        , 0.        ,\n",
              "        0.01514793],\n",
              "       [0.01538462, 0.        , 0.        , ..., 0.        , 0.01514793,\n",
              "        0.        ]])"
            ]
          },
          "metadata": {
            "tags": []
          },
          "execution_count": 11
        }
      ]
    },
    {
      "cell_type": "markdown",
      "metadata": {
        "id": "SAFnKTDscdnX",
        "colab_type": "text"
      },
      "source": [
        "**Same, checking for bi-stochastic behaviour**"
      ]
    },
    {
      "cell_type": "code",
      "metadata": {
        "id": "DlvTfnrF2Smi",
        "colab_type": "code",
        "outputId": "165183b6-9e1a-4158-c7b5-f9e909c3f96c",
        "colab": {
          "base_uri": "https://localhost:8080/",
          "height": 204
        }
      },
      "source": [
        "  np.sum(Kc,axis=1)"
      ],
      "execution_count": 12,
      "outputs": [
        {
          "output_type": "execute_result",
          "data": {
            "text/plain": [
              "array([1., 1., 1., 1., 1., 1., 1., 1., 1., 1., 1., 1., 1., 1., 1., 1., 1.,\n",
              "       1., 1., 1., 1., 1., 1., 1., 1., 1., 1., 1., 1., 1., 1., 1., 1., 1.,\n",
              "       1., 1., 1., 1., 1., 1., 1., 1., 1., 1., 1., 1., 1., 1., 1., 1., 1.,\n",
              "       1., 1., 1., 1., 1., 1., 1., 1., 1., 1., 1., 1., 1., 1., 1., 1., 1.,\n",
              "       1., 1., 1., 1., 1., 1., 1., 1., 1., 1., 1., 1., 1., 1., 1., 1., 1.,\n",
              "       1., 1., 1., 1., 1., 1., 1., 1., 1., 1., 1., 1., 1., 1., 1., 1., 1.,\n",
              "       1., 1., 1., 1., 1., 1., 1., 1., 1., 1., 1., 1., 1., 1., 1., 1., 1.,\n",
              "       1., 1., 1., 1., 1., 1., 1., 1., 1., 1., 1., 1., 1., 1., 1., 1., 1.,\n",
              "       1., 1., 1., 1., 1., 1., 1., 1., 1., 1., 1., 1., 1., 1., 1., 1., 1.,\n",
              "       1., 1., 1., 1., 1., 1., 1., 1., 1., 1., 1., 1., 1., 1., 1., 1., 1.,\n",
              "       1., 1., 1., 1., 1., 1., 1., 1., 1.])"
            ]
          },
          "metadata": {
            "tags": []
          },
          "execution_count": 12
        }
      ]
    },
    {
      "cell_type": "markdown",
      "metadata": {
        "id": "qmJ1FML0ckLi",
        "colab_type": "text"
      },
      "source": [
        "**Generating Fg and Fo i'e the Group class matrix and Object Class matrix**"
      ]
    },
    {
      "cell_type": "code",
      "metadata": {
        "id": "DTO5d9Ay2Xc5",
        "colab_type": "code",
        "outputId": "7169b316-d3ca-485b-bab7-df200b362bad",
        "colab": {
          "base_uri": "https://localhost:8080/",
          "height": 1000
        }
      },
      "source": [
        "objclass_mat1=pd.DataFrame(y_prob,columns=['Survived','NotSurvived'])\n",
        "objclass_mat2=pd.DataFrame(y_prob3,columns=['Survived','NotSurvived'])\n",
        "df_t=pd.DataFrame(objclass_mat1)\n",
        "df_t['Survived2']=objclass_mat2['Survived']\n",
        "df_t['NotSurvived2']=objclass_mat2['NotSurvived']\n",
        "G=4\n",
        "C=2\n",
        "m=G/2\n",
        "n=df_t.shape[0]\n",
        "dft=np.array(df_t)\n",
        "Fo=np.zeros(shape=(n,C))\n",
        "for i in range(n):\n",
        "  sum1=0\n",
        "  for j in range(0,G,2):\n",
        "    sum1=sum1+dft[i][j]\n",
        "  Fo[i][0]=sum1/m \n",
        "  sum2=0\n",
        "  for j in range(1,G,2):\n",
        "    sum2=sum2+dft[i][j]\n",
        "  Fo[i][1]=sum2/m\n",
        "gpclass_mat=pd.DataFrame(columns=['Survived','NotSurvived'],index=['class1surv','class1notsurv','class2surv','class2notsurv'])\n",
        "prob1s=np.sum(objclass_mat1.Survived)/len(objclass_mat1)\n",
        "prob1ns=np.sum(objclass_mat1.NotSurvived)/len(objclass_mat1)\n",
        "prob2s=np.sum(objclass_mat2.Survived)/len(objclass_mat2)\n",
        "prob2ns=np.sum(objclass_mat2.NotSurvived)/len(objclass_mat2)\n",
        "list1=[]\n",
        "list1.append(prob1s)\n",
        "list1.append(prob1ns)\n",
        "list1.append(prob2s)\n",
        "list1.append(prob2ns)\n",
        "\n",
        "list2=[]\n",
        "list2.append(prob1ns)\n",
        "list2.append(prob1s)\n",
        "list2.append(prob2ns)\n",
        "list2.append(prob2s)\n",
        "gpclass_mat['Survived']=list1\n",
        "gpclass_mat['NotSurvived']=list2\n",
        "gpclass_mat\n",
        "Fg=np.array(gpclass_mat)\n",
        "Fo"
      ],
      "execution_count": 46,
      "outputs": [
        {
          "output_type": "execute_result",
          "data": {
            "text/plain": [
              "array([[0.46422316, 0.53577684],\n",
              "       [0.894664  , 0.105336  ],\n",
              "       [0.91584514, 0.08415486],\n",
              "       [0.79313947, 0.20686053],\n",
              "       [0.39597882, 0.60402118],\n",
              "       [0.88276101, 0.11723899],\n",
              "       [0.74665993, 0.25334007],\n",
              "       [0.88276101, 0.11723899],\n",
              "       [0.27582449, 0.72417551],\n",
              "       [0.73376105, 0.26623895],\n",
              "       [0.86130225, 0.13869775],\n",
              "       [0.74665993, 0.25334007],\n",
              "       [0.88276101, 0.11723899],\n",
              "       [0.88276101, 0.11723899],\n",
              "       [0.09081494, 0.90918506],\n",
              "       [0.85582013, 0.14417987],\n",
              "       [0.86130225, 0.13869775],\n",
              "       [0.31152139, 0.68847861],\n",
              "       [0.16705669, 0.83294331],\n",
              "       [0.8436538 , 0.1563462 ],\n",
              "       [0.85582013, 0.14417987],\n",
              "       [0.81839698, 0.18160302],\n",
              "       [0.3325049 , 0.6674951 ],\n",
              "       [0.88276101, 0.11723899],\n",
              "       [0.8436538 , 0.1563462 ],\n",
              "       [0.46422316, 0.53577684],\n",
              "       [0.88276101, 0.11723899],\n",
              "       [0.88276101, 0.11723899],\n",
              "       [0.88276101, 0.11723899],\n",
              "       [0.15093593, 0.84906407],\n",
              "       [0.89969489, 0.10030511],\n",
              "       [0.88276101, 0.11723899],\n",
              "       [0.27963621, 0.72036379],\n",
              "       [0.22935345, 0.77064655],\n",
              "       [0.47458992, 0.52541008],\n",
              "       [0.91584514, 0.08415486],\n",
              "       [0.18678075, 0.81321925],\n",
              "       [0.88276101, 0.11723899],\n",
              "       [0.83873283, 0.16126717],\n",
              "       [0.3325049 , 0.6674951 ],\n",
              "       [0.37585032, 0.62414968],\n",
              "       [0.91584514, 0.08415486],\n",
              "       [0.14595765, 0.85404235],\n",
              "       [0.89378525, 0.10621475],\n",
              "       [0.74665993, 0.25334007],\n",
              "       [0.87299726, 0.12700274],\n",
              "       [0.894664  , 0.105336  ],\n",
              "       [0.86130225, 0.13869775],\n",
              "       [0.86130225, 0.13869775],\n",
              "       [0.894664  , 0.105336  ],\n",
              "       [0.62621728, 0.37378272],\n",
              "       [0.86600152, 0.13399848],\n",
              "       [0.88276101, 0.11723899],\n",
              "       [0.13374844, 0.86625156],\n",
              "       [0.75071184, 0.24928816],\n",
              "       [0.86130225, 0.13869775],\n",
              "       [0.3325049 , 0.6674951 ],\n",
              "       [0.18861518, 0.81138482],\n",
              "       [0.80054567, 0.19945433],\n",
              "       [0.39708141, 0.60291859],\n",
              "       [0.33043805, 0.66956195],\n",
              "       [0.17418935, 0.82581065],\n",
              "       [0.28104837, 0.71895163],\n",
              "       [0.87299726, 0.12700274],\n",
              "       [0.16481736, 0.83518264],\n",
              "       [0.12044075, 0.87955925],\n",
              "       [0.11725095, 0.88274905],\n",
              "       [0.88276101, 0.11723899],\n",
              "       [0.77484987, 0.22515013],\n",
              "       [0.81839698, 0.18160302],\n",
              "       [0.81839698, 0.18160302],\n",
              "       [0.89633081, 0.10366919],\n",
              "       [0.91256783, 0.08743217],\n",
              "       [0.17418935, 0.82581065],\n",
              "       [0.80865294, 0.19134706],\n",
              "       [0.81839698, 0.18160302],\n",
              "       [0.74665993, 0.25334007],\n",
              "       [0.77699531, 0.22300469],\n",
              "       [0.09081494, 0.90918506],\n",
              "       [0.3325049 , 0.6674951 ],\n",
              "       [0.88276101, 0.11723899],\n",
              "       [0.88276101, 0.11723899],\n",
              "       [0.87531352, 0.12468648],\n",
              "       [0.81839698, 0.18160302],\n",
              "       [0.8436538 , 0.1563462 ],\n",
              "       [0.89415058, 0.10584942],\n",
              "       [0.88276101, 0.11723899],\n",
              "       [0.15674973, 0.84325027],\n",
              "       [0.18861518, 0.81138482],\n",
              "       [0.88276101, 0.11723899],\n",
              "       [0.88276101, 0.11723899],\n",
              "       [0.21924063, 0.78075937],\n",
              "       [0.3325049 , 0.6674951 ],\n",
              "       [0.84360638, 0.15639362],\n",
              "       [0.18861518, 0.81138482],\n",
              "       [0.74665993, 0.25334007],\n",
              "       [0.94338889, 0.05661111],\n",
              "       [0.88276101, 0.11723899],\n",
              "       [0.20328435, 0.79671565],\n",
              "       [0.88276101, 0.11723899],\n",
              "       [0.894664  , 0.105336  ],\n",
              "       [0.88276101, 0.11723899],\n",
              "       [0.72111084, 0.27888916],\n",
              "       [0.16431707, 0.83568293],\n",
              "       [0.89969489, 0.10030511],\n",
              "       [0.88276101, 0.11723899],\n",
              "       [0.156789  , 0.843211  ],\n",
              "       [0.14595765, 0.85404235],\n",
              "       [0.88276101, 0.11723899],\n",
              "       [0.27582449, 0.72417551],\n",
              "       [0.81726178, 0.18273822],\n",
              "       [0.44924472, 0.55075528],\n",
              "       [0.8436538 , 0.1563462 ],\n",
              "       [0.3325049 , 0.6674951 ],\n",
              "       [0.13133763, 0.86866237],\n",
              "       [0.72111084, 0.27888916],\n",
              "       [0.18861518, 0.81138482],\n",
              "       [0.78220947, 0.21779053],\n",
              "       [0.88276101, 0.11723899],\n",
              "       [0.14244992, 0.85755008],\n",
              "       [0.88276101, 0.11723899],\n",
              "       [0.74724531, 0.25275469],\n",
              "       [0.18861518, 0.81138482],\n",
              "       [0.8738603 , 0.1261397 ],\n",
              "       [0.2653201 , 0.7346799 ],\n",
              "       [0.78220947, 0.21779053],\n",
              "       [0.88276101, 0.11723899],\n",
              "       [0.75071184, 0.24928816],\n",
              "       [0.51422662, 0.48577338],\n",
              "       [0.894664  , 0.105336  ],\n",
              "       [0.86130225, 0.13869775],\n",
              "       [0.18861518, 0.81138482],\n",
              "       [0.46422316, 0.53577684],\n",
              "       [0.86730131, 0.13269869],\n",
              "       [0.75899696, 0.24100304],\n",
              "       [0.08700634, 0.91299366],\n",
              "       [0.2653201 , 0.7346799 ],\n",
              "       [0.88276101, 0.11723899],\n",
              "       [0.33974405, 0.66025595],\n",
              "       [0.39597882, 0.60402118],\n",
              "       [0.86130225, 0.13869775],\n",
              "       [0.71257997, 0.28742003],\n",
              "       [0.51422662, 0.48577338],\n",
              "       [0.91584514, 0.08415486],\n",
              "       [0.89415058, 0.10584942],\n",
              "       [0.86730131, 0.13269869],\n",
              "       [0.894664  , 0.105336  ],\n",
              "       [0.894664  , 0.105336  ],\n",
              "       [0.36430541, 0.63569459],\n",
              "       [0.74665993, 0.25334007],\n",
              "       [0.88276101, 0.11723899],\n",
              "       [0.88276101, 0.11723899],\n",
              "       [0.84607821, 0.15392179],\n",
              "       [0.73842383, 0.26157617],\n",
              "       [0.11902476, 0.88097524],\n",
              "       [0.88276101, 0.11723899],\n",
              "       [0.86130225, 0.13869775],\n",
              "       [0.16705669, 0.83294331],\n",
              "       [0.21179136, 0.78820864],\n",
              "       [0.81839698, 0.18160302],\n",
              "       [0.68112534, 0.31887466],\n",
              "       [0.8436538 , 0.1563462 ],\n",
              "       [0.16705669, 0.83294331],\n",
              "       [0.8436538 , 0.1563462 ],\n",
              "       [0.89673433, 0.10326567],\n",
              "       [0.894664  , 0.105336  ],\n",
              "       [0.14595765, 0.85404235],\n",
              "       [0.1250115 , 0.8749885 ],\n",
              "       [0.83899467, 0.16100533],\n",
              "       [0.88276101, 0.11723899],\n",
              "       [0.84406432, 0.15593568],\n",
              "       [0.894664  , 0.105336  ],\n",
              "       [0.19721209, 0.80278791],\n",
              "       [0.10218427, 0.89781573],\n",
              "       [0.3325049 , 0.6674951 ],\n",
              "       [0.10224133, 0.89775867],\n",
              "       [0.88276101, 0.11723899],\n",
              "       [0.13133763, 0.86866237],\n",
              "       [0.31152139, 0.68847861]])"
            ]
          },
          "metadata": {
            "tags": []
          },
          "execution_count": 46
        }
      ]
    },
    {
      "cell_type": "code",
      "metadata": {
        "id": "Rt3Mzhjc7ti5",
        "colab_type": "code",
        "colab": {
          "base_uri": "https://localhost:8080/",
          "height": 1000
        },
        "outputId": "3144e7df-0ecb-4c83-dc5e-209f0e754caa"
      },
      "source": [
        "Fo"
      ],
      "execution_count": 45,
      "outputs": [
        {
          "output_type": "execute_result",
          "data": {
            "text/plain": [
              "array([[0.56268337, 0.43731663],\n",
              "       [0.93129549, 0.06870451],\n",
              "       [0.95740695, 0.04259305],\n",
              "       [0.7282035 , 0.2717965 ],\n",
              "       [0.48231215, 0.51768785],\n",
              "       [0.90753662, 0.09246338],\n",
              "       [0.63525269, 0.36474731],\n",
              "       [0.90753662, 0.09246338],\n",
              "       [0.47266307, 0.52733693],\n",
              "       [0.58759628, 0.41240372],\n",
              "       [0.86459336, 0.13540664],\n",
              "       [0.63525269, 0.36474731],\n",
              "       [0.90753662, 0.09246338],\n",
              "       [0.90753662, 0.09246338],\n",
              "       [0.05816619, 0.94183381],\n",
              "       [0.85367558, 0.14632442],\n",
              "       [0.86459336, 0.13540664],\n",
              "       [0.3564107 , 0.6435893 ],\n",
              "       [0.17601537, 0.82398463],\n",
              "       [0.82931635, 0.17068365],\n",
              "       [0.85367558, 0.14632442],\n",
              "       [0.7786729 , 0.2213271 ],\n",
              "       [0.30144018, 0.69855982],\n",
              "       [0.90753662, 0.09246338],\n",
              "       [0.82931635, 0.17068365],\n",
              "       [0.56268337, 0.43731663],\n",
              "       [0.90753662, 0.09246338],\n",
              "       [0.90753662, 0.09246338],\n",
              "       [0.90753662, 0.09246338],\n",
              "       [0.17552053, 0.82447947],\n",
              "       [0.92668232, 0.07331768],\n",
              "       [0.90753662, 0.09246338],\n",
              "       [0.36594661, 0.63405339],\n",
              "       [0.31563342, 0.68436658],\n",
              "       [0.73582554, 0.26417446],\n",
              "       [0.95740695, 0.04259305],\n",
              "       [0.24316065, 0.75683935],\n",
              "       [0.90753662, 0.09246338],\n",
              "       [0.82473354, 0.17526646],\n",
              "       [0.30144018, 0.69855982],\n",
              "       [0.49178443, 0.50821557],\n",
              "       [0.95740695, 0.04259305],\n",
              "       [0.13395638, 0.86604362],\n",
              "       [0.91811413, 0.08188587],\n",
              "       [0.63525269, 0.36474731],\n",
              "       [0.88784836, 0.11215164],\n",
              "       [0.93129549, 0.06870451],\n",
              "       [0.86459336, 0.13540664],\n",
              "       [0.86459336, 0.13540664],\n",
              "       [0.93129549, 0.06870451],\n",
              "       [0.46213803, 0.53786197],\n",
              "       [0.84226503, 0.15773497],\n",
              "       [0.90753662, 0.09246338],\n",
              "       [0.10950438, 0.89049562],\n",
              "       [0.64399215, 0.35600785],\n",
              "       [0.86459336, 0.13540664],\n",
              "       [0.30144018, 0.69855982],\n",
              "       [0.21918989, 0.78081011],\n",
              "       [0.70195532, 0.29804468],\n",
              "       [0.37341157, 0.62658843],\n",
              "       [0.43336463, 0.56663537],\n",
              "       [0.24501581, 0.75498419],\n",
              "       [0.38910599, 0.61089401],\n",
              "       [0.88784836, 0.11215164],\n",
              "       [0.18587439, 0.81412561],\n",
              "       [0.06974684, 0.93025316],\n",
              "       [0.08804868, 0.91195132],\n",
              "       [0.90753662, 0.09246338],\n",
              "       [0.69162043, 0.30837957],\n",
              "       [0.7786729 , 0.2213271 ],\n",
              "       [0.7786729 , 0.2213271 ],\n",
              "       [0.96311821, 0.03688179],\n",
              "       [0.97659896, 0.02340104],\n",
              "       [0.24501581, 0.75498419],\n",
              "       [0.75593972, 0.24406028],\n",
              "       [0.7786729 , 0.2213271 ],\n",
              "       [0.63525269, 0.36474731],\n",
              "       [0.66304151, 0.33695849],\n",
              "       [0.05816619, 0.94183381],\n",
              "       [0.30144018, 0.69855982],\n",
              "       [0.90753662, 0.09246338],\n",
              "       [0.90753662, 0.09246338],\n",
              "       [0.8915686 , 0.1084314 ],\n",
              "       [0.7786729 , 0.2213271 ],\n",
              "       [0.82931635, 0.17068365],\n",
              "       [0.94387956, 0.05612044],\n",
              "       [0.90753662, 0.09246338],\n",
              "       [0.20413543, 0.79586457],\n",
              "       [0.21918989, 0.78081011],\n",
              "       [0.90753662, 0.09246338],\n",
              "       [0.90753662, 0.09246338],\n",
              "       [0.24828919, 0.75171081],\n",
              "       [0.30144018, 0.69855982],\n",
              "       [0.81918525, 0.18081475],\n",
              "       [0.21918989, 0.78081011],\n",
              "       [0.63525269, 0.36474731],\n",
              "       [0.96178342, 0.03821658],\n",
              "       [0.90753662, 0.09246338],\n",
              "       [0.26370495, 0.73629505],\n",
              "       [0.90753662, 0.09246338],\n",
              "       [0.93129549, 0.06870451],\n",
              "       [0.90753662, 0.09246338],\n",
              "       [0.58415309, 0.41584691],\n",
              "       [0.21219835, 0.78780165],\n",
              "       [0.92668232, 0.07331768],\n",
              "       [0.90753662, 0.09246338],\n",
              "       [0.15551094, 0.84448906],\n",
              "       [0.13395638, 0.86604362],\n",
              "       [0.90753662, 0.09246338],\n",
              "       [0.47266307, 0.52733693],\n",
              "       [0.77647378, 0.22352622],\n",
              "       [0.54540133, 0.45459867],\n",
              "       [0.82931635, 0.17068365],\n",
              "       [0.30144018, 0.69855982],\n",
              "       [0.14186518, 0.85813482],\n",
              "       [0.58415309, 0.41584691],\n",
              "       [0.21918989, 0.78081011],\n",
              "       [0.70633678, 0.29366322],\n",
              "       [0.90753662, 0.09246338],\n",
              "       [0.16609865, 0.83390135],\n",
              "       [0.90753662, 0.09246338],\n",
              "       [0.73316164, 0.26683836],\n",
              "       [0.21918989, 0.78081011],\n",
              "       [0.88959055, 0.11040945],\n",
              "       [0.37261273, 0.62738727],\n",
              "       [0.70633678, 0.29366322],\n",
              "       [0.90753662, 0.09246338],\n",
              "       [0.64399215, 0.35600785],\n",
              "       [0.62362129, 0.37637871],\n",
              "       [0.93129549, 0.06870451],\n",
              "       [0.86459336, 0.13540664],\n",
              "       [0.21918989, 0.78081011],\n",
              "       [0.56268337, 0.43731663],\n",
              "       [0.87664986, 0.12335014],\n",
              "       [0.65986359, 0.34013641],\n",
              "       [0.04280447, 0.95719553],\n",
              "       [0.37261273, 0.62738727],\n",
              "       [0.90753662, 0.09246338],\n",
              "       [0.35719458, 0.64280542],\n",
              "       [0.48231215, 0.51768785],\n",
              "       [0.86459336, 0.13540664],\n",
              "       [0.56706669, 0.43293331],\n",
              "       [0.62362129, 0.37637871],\n",
              "       [0.95740695, 0.04259305],\n",
              "       [0.94387956, 0.05612044],\n",
              "       [0.87664986, 0.12335014],\n",
              "       [0.93129549, 0.06870451],\n",
              "       [0.93129549, 0.06870451],\n",
              "       [0.4197819 , 0.5802181 ],\n",
              "       [0.63525269, 0.36474731],\n",
              "       [0.90753662, 0.09246338],\n",
              "       [0.90753662, 0.09246338],\n",
              "       [0.85438138, 0.14561862],\n",
              "       [0.6188961 , 0.3811039 ],\n",
              "       [0.09382985, 0.90617015],\n",
              "       [0.90753662, 0.09246338],\n",
              "       [0.86459336, 0.13540664],\n",
              "       [0.17601537, 0.82398463],\n",
              "       [0.26551354, 0.73448646],\n",
              "       [0.7786729 , 0.2213271 ],\n",
              "       [0.50425124, 0.49574876],\n",
              "       [0.82931635, 0.17068365],\n",
              "       [0.17601537, 0.82398463],\n",
              "       [0.82931635, 0.17068365],\n",
              "       [0.92921708, 0.07078292],\n",
              "       [0.93129549, 0.06870451],\n",
              "       [0.13395638, 0.86604362],\n",
              "       [0.03859647, 0.96140353],\n",
              "       [0.82002234, 0.17997766],\n",
              "       [0.90753662, 0.09246338],\n",
              "       [0.84504398, 0.15495602],\n",
              "       [0.93129549, 0.06870451],\n",
              "       [0.25034883, 0.74965117],\n",
              "       [0.05253089, 0.94746911],\n",
              "       [0.30144018, 0.69855982],\n",
              "       [0.09142443, 0.90857557],\n",
              "       [0.90753662, 0.09246338],\n",
              "       [0.14186518, 0.85813482],\n",
              "       [0.3564107 , 0.6435893 ]])"
            ]
          },
          "metadata": {
            "tags": []
          },
          "execution_count": 45
        }
      ]
    },
    {
      "cell_type": "markdown",
      "metadata": {
        "id": "JRxO_k8tct-4",
        "colab_type": "text"
      },
      "source": [
        "**Similarly, generating  Yo and Yg**"
      ]
    },
    {
      "cell_type": "code",
      "metadata": {
        "id": "ovw7WJ7S2pQc",
        "colab_type": "code",
        "colab": {}
      },
      "source": [
        "n=2\n",
        "C=survived.shape[1]\n",
        "G=survived.shape[1]*n\n",
        "\n",
        "Yo=np.zeros(shape=(df.shape[0],C))\n",
        "cal_y=np.array(df)\n",
        "for i in range(Yo.shape[0]):\n",
        "  Yo[i][0]=(cal_y[i][0]+cal_y[i][2])/C\n",
        "for i in range(Yo.shape[0]):\n",
        "  Yo[i][1]=(cal_y[i][1]+cal_y[i][3])/C"
      ],
      "execution_count": 0,
      "outputs": []
    },
    {
      "cell_type": "code",
      "metadata": {
        "id": "5SR3KDg3q87U",
        "colab_type": "code",
        "outputId": "c592a568-d53c-4b42-e67b-7421c97b35c9",
        "colab": {
          "base_uri": "https://localhost:8080/",
          "height": 34
        }
      },
      "source": [
        "G"
      ],
      "execution_count": 41,
      "outputs": [
        {
          "output_type": "execute_result",
          "data": {
            "text/plain": [
              "4"
            ]
          },
          "metadata": {
            "tags": []
          },
          "execution_count": 41
        }
      ]
    },
    {
      "cell_type": "code",
      "metadata": {
        "id": "hYZkiSfs2w2I",
        "colab_type": "code",
        "outputId": "122e9ceb-f447-49db-bf33-9b0ccff2181f",
        "colab": {
          "base_uri": "https://localhost:8080/",
          "height": 85
        }
      },
      "source": [
        "m=np.array(df)\n",
        "Yg=np.zeros(shape=(m.shape[1],2))\n",
        "c=np.sum(m,axis=0)\n",
        "for i in range(Yg.shape[0]):\n",
        "  if i%2==0:\n",
        "    Yg[i][0]=c[i]/m.shape[0]\n",
        "    Yg[i][1]=1-Yg[i][0]\n",
        "  else:\n",
        "    Yg[i][1]=c[i]/m.shape[0]\n",
        "    Yg[i][0]=1-Yg[i][1]  \n",
        "Yg"
      ],
      "execution_count": 42,
      "outputs": [
        {
          "output_type": "execute_result",
          "data": {
            "text/plain": [
              "array([[0.65921788, 0.34078212],\n",
              "       [0.65921788, 0.34078212],\n",
              "       [0.62569832, 0.37430168],\n",
              "       [0.62569832, 0.37430168]])"
            ]
          },
          "metadata": {
            "tags": []
          },
          "execution_count": 42
        }
      ]
    },
    {
      "cell_type": "markdown",
      "metadata": {
        "id": "rTa6_2DsdIlO",
        "colab_type": "text"
      },
      "source": [
        "Genearting "
      ]
    },
    {
      "cell_type": "markdown",
      "metadata": {
        "id": "0hcY4DpgduI4",
        "colab_type": "text"
      },
      "source": [
        "Checking for the conditions specified in eq 6"
      ]
    },
    {
      "cell_type": "code",
      "metadata": {
        "id": "h-R_gkfu8JIC",
        "colab_type": "code",
        "colab": {
          "base_uri": "https://localhost:8080/",
          "height": 34
        },
        "outputId": "66155190-d8cb-49b9-84cc-852710e5c1d1"
      },
      "source": [
        "np.linalg.norm((Fo[9]), ord=1)"
      ],
      "execution_count": 52,
      "outputs": [
        {
          "output_type": "execute_result",
          "data": {
            "text/plain": [
              "0.9999999999999999"
            ]
          },
          "metadata": {
            "tags": []
          },
          "execution_count": 52
        }
      ]
    },
    {
      "cell_type": "code",
      "metadata": {
        "id": "QHAljZHU21jH",
        "colab_type": "code",
        "outputId": "ba98536f-b43f-4e92-8887-3e9153c58f9a",
        "colab": {
          "base_uri": "https://localhost:8080/",
          "height": 493
        }
      },
      "source": [
        "Fo_cond=True\n",
        "Fg_cond=True\n",
        "for i in range(Fo.shape[0]):\n",
        "  if np.linalg.norm((Fo[i]), ord=1)!=1:\n",
        "    print(i)\n",
        "for i in range(Fg.shape[0]):\n",
        "  if np.linalg.norm((Fg[i]), ord=1)!=1:\n",
        "    Fo_cond=False    \n",
        "print(Fo_cond)\n",
        "print(Fg_cond)"
      ],
      "execution_count": 49,
      "outputs": [
        {
          "output_type": "stream",
          "text": [
            "2\n",
            "4\n",
            "9\n",
            "35\n",
            "40\n",
            "41\n",
            "42\n",
            "50\n",
            "53\n",
            "68\n",
            "71\n",
            "72\n",
            "77\n",
            "85\n",
            "87\n",
            "103\n",
            "106\n",
            "107\n",
            "128\n",
            "134\n",
            "135\n",
            "139\n",
            "142\n",
            "143\n",
            "144\n",
            "166\n",
            "False\n",
            "True\n"
          ],
          "name": "stdout"
        }
      ]
    },
    {
      "cell_type": "markdown",
      "metadata": {
        "id": "T7YlgtdbeCFc",
        "colab_type": "text"
      },
      "source": [
        "**Generating diagonal matrices Dm and Dc**"
      ]
    },
    {
      "cell_type": "code",
      "metadata": {
        "id": "a8cG1naJ3Cbk",
        "colab_type": "code",
        "outputId": "9433c8c4-695f-495e-ab03-35dde19a2599",
        "colab": {
          "base_uri": "https://localhost:8080/",
          "height": 51
        }
      },
      "source": [
        "test_dm=np.zeros(shape=(Km.shape))\n",
        "test_Km=Km\n",
        "for i in range(test_Km.shape[0]):\n",
        "  test_dm[i]=np.sum(test_Km[i],axis=0)\n",
        "Dm=np.diag(np.diag(test_dm))\n",
        "print(\"Shape of DM\",Dm.shape)\n",
        "test_dc=np.zeros(shape=(Kc.shape))\n",
        "test_Kc=Kc\n",
        "for i in range(test_Kc.shape[0]):\n",
        "  test_dc[i]=np.sum(test_Kc[i],axis=0)\n",
        "Dc=np.diag(np.diag(test_dc))\n",
        "print(\"shape of Dc\",Dc.shape)"
      ],
      "execution_count": 23,
      "outputs": [
        {
          "output_type": "stream",
          "text": [
            "Shape of DM (179, 179)\n",
            "shape of Dc (179, 179)\n"
          ],
          "name": "stdout"
        }
      ]
    },
    {
      "cell_type": "code",
      "metadata": {
        "id": "Bv1sYezy3Hwa",
        "colab_type": "code",
        "outputId": "e635f4d9-dba9-4e76-faaf-d940ab10b058",
        "colab": {
          "base_uri": "https://localhost:8080/",
          "height": 153
        }
      },
      "source": [
        "print(\"KHM\",Km.shape)\n",
        "print(\"KHC\",Kc.shape)\n",
        "print(\"Fo\",Fo.shape)\n",
        "print(\"Fg\",Fg.shape)\n",
        "print(\"Yo\",Yo.shape)\n",
        "print(\"Yg\",Yg.shape)\n",
        "print(\"Dm\",Dm.shape)\n",
        "print(\"Dc\",Dc.shape)"
      ],
      "execution_count": 24,
      "outputs": [
        {
          "output_type": "stream",
          "text": [
            "KHM (179, 179)\n",
            "KHC (179, 179)\n",
            "Fo (179, 2)\n",
            "Fg (4, 2)\n",
            "Yo (179, 2)\n",
            "Yg (4, 2)\n",
            "Dm (179, 179)\n",
            "Dc (179, 179)\n"
          ],
          "name": "stdout"
        }
      ]
    },
    {
      "cell_type": "code",
      "metadata": {
        "id": "dCBI0yrwqzOB",
        "colab_type": "code",
        "colab": {}
      },
      "source": [
        ""
      ],
      "execution_count": 0,
      "outputs": []
    },
    {
      "cell_type": "code",
      "metadata": {
        "id": "I5InaYBP3Lfq",
        "colab_type": "code",
        "outputId": "9a1db6b8-f3ea-4d49-d4dc-96c8d44b7840",
        "colab": {
          "base_uri": "https://localhost:8080/",
          "height": 34
        }
      },
      "source": [
        "Yg=np.pad(Yg,pad_width=[(0, Km.shape[0]-G), (0, 0)])\n",
        "Yg.shape"
      ],
      "execution_count": 25,
      "outputs": [
        {
          "output_type": "execute_result",
          "data": {
            "text/plain": [
              "(179, 2)"
            ]
          },
          "metadata": {
            "tags": []
          },
          "execution_count": 25
        }
      ]
    },
    {
      "cell_type": "code",
      "metadata": {
        "id": "Ro1G66qS5Pzv",
        "colab_type": "code",
        "outputId": "33787df1-f065-49c6-fbd4-bac0608e9dfb",
        "colab": {
          "base_uri": "https://localhost:8080/",
          "height": 153
        }
      },
      "source": [
        "print(\"KHM\",Km.shape)\n",
        "print(\"KHC\",Kc.shape)\n",
        "print(\"Fo\",Fo.shape)\n",
        "print(\"Fg\",Fg.shape)\n",
        "print(\"Yo\",Yo.shape)\n",
        "print(\"Yg\",Yg.shape)\n",
        "print(\"Dm\",Dm.shape)\n",
        "print(\"Dc\",Dc.shape)"
      ],
      "execution_count": 26,
      "outputs": [
        {
          "output_type": "stream",
          "text": [
            "KHM (179, 179)\n",
            "KHC (179, 179)\n",
            "Fo (179, 2)\n",
            "Fg (4, 2)\n",
            "Yo (179, 2)\n",
            "Yg (179, 2)\n",
            "Dm (179, 179)\n",
            "Dc (179, 179)\n"
          ],
          "name": "stdout"
        }
      ]
    },
    {
      "cell_type": "code",
      "metadata": {
        "id": "4OVQOQf35Tb7",
        "colab_type": "code",
        "colab": {}
      },
      "source": [
        "import sys\n",
        "threshold=sys.float_info.epsilon"
      ],
      "execution_count": 0,
      "outputs": []
    },
    {
      "cell_type": "markdown",
      "metadata": {
        "id": "oTILUgDfeX91",
        "colab_type": "text"
      },
      "source": [
        "**Implementing algorithm 2**"
      ]
    },
    {
      "cell_type": "code",
      "metadata": {
        "id": "NaOULbFt5XBQ",
        "colab_type": "code",
        "colab": {}
      },
      "source": [
        "alpha=0.40\n",
        "beta=0.35\n",
        "gamma=0.45\n",
        "delta=0.5\n",
        "Fo_t=np.zeros(shape=Fo.shape)\n",
        "Fg_t=np.zeros(shape=Fg.shape)\n",
        "Fot_old=np.zeros(shape=Fo.shape)\n",
        "Fo_t=Fo\n",
        "Fg_t=Fg\n",
        "while LA.norm((Fo_t-Fot_old),'fro')>threshold:\n",
        "  Fot_old=Fo_t\n",
        "  Fg_t=np.matmul((np.linalg.inv(2*delta*np.ones(shape=Dm.shape)+(alpha*Dm))),((alpha*np.matmul(Km,Fo_t))+(2*delta*Yg)))\n",
        "  Fo_t=np.matmul((np.linalg.inv((alpha*Dm)+(2*beta*Dc)-(beta*np.matmul(np.identity(Kc.shape[0]),Kc))-(beta*np.matmul(np.ones(shape=Kc.shape),Kc))+(2*gamma*np.identity(Kc.shape[0])))),((alpha*np.matmul(Km,Fg_t))+(2*gamma*Yo)))"
      ],
      "execution_count": 0,
      "outputs": []
    },
    {
      "cell_type": "code",
      "metadata": {
        "id": "ZhH4nVo_5e6_",
        "colab_type": "code",
        "outputId": "4b143605-b154-48e1-fe3b-8b4307b6af46",
        "colab": {
          "base_uri": "https://localhost:8080/",
          "height": 119
        }
      },
      "source": [
        "from sklearn.metrics import accuracy_score\n",
        "result=np.zeros(shape=Fo_t.shape[0])\n",
        "for i in range(Fo_t.shape[0]):\n",
        "  if Fo_t[i][0]<Fo_t[i][1]:\n",
        "    result[i]=1\n",
        "print(\"Accuracy value for Ensemble model\",accuracy_score(y_val,result))\n",
        "print(\"AUC for for Ensemble model\",roc_auc_score(y_val,result))\n",
        "print(\"Accuracy value for LR\",accuracy_score(y_val,ypred))\n",
        "print(\"AUC for for LR\",roc_auc_score(y_val,ypred))\n",
        "print(\"Accuracy value for bagging Random Forest\",accuracy_score(y_val,Y_pred))\n",
        "print(\"AUC for for bagging Random Forest\",roc_auc_score(y_val,Y_pred))\n"
      ],
      "execution_count": 29,
      "outputs": [
        {
          "output_type": "stream",
          "text": [
            "Accuracy value for Ensemble model 0.776536312849162\n",
            "AUC for for Ensemble model 0.7654430379746835\n",
            "Accuracy value for LR 0.776536312849162\n",
            "AUC for for LR 0.7614556962025316\n",
            "Accuracy value for bagging Random Forest 0.7486033519553073\n",
            "AUC for for bagging Random Forest 0.7231645569620253\n"
          ],
          "name": "stdout"
        }
      ]
    },
    {
      "cell_type": "markdown",
      "metadata": {
        "id": "cUskNBtfe5C7",
        "colab_type": "text"
      },
      "source": [
        "**We see that the ensemble model performs better than the Random forest, Kneigbours and Svm models and is at par with the Logistic regression model that gives us the best accuracy. **"
      ]
    },
    {
      "cell_type": "code",
      "metadata": {
        "id": "4PPCRZWO5qq9",
        "colab_type": "code",
        "colab": {}
      },
      "source": [
        "\n",
        "     "
      ],
      "execution_count": 0,
      "outputs": []
    }
  ]
}